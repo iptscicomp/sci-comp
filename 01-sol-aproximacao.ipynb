{
 "cells": [
  {
   "cell_type": "markdown",
   "metadata": {},
   "source": [
    "# Aproximação e Interpolação: solução dos problemas propostos\n",
    "\n",
    "Este notebook apresenta a solução dos problemas propostos na aula 01, Apriximação e Interpolação.\n"
   ]
  },
  {
   "cell_type": "markdown",
   "metadata": {},
   "source": [
    "<!-- TEASER_END -->"
   ]
  },
  {
   "cell_type": "code",
   "execution_count": null,
   "metadata": {},
   "outputs": [],
   "source": [
    "using PyPlot"
   ]
  },
  {
   "cell_type": "code",
   "execution_count": null,
   "metadata": {},
   "outputs": [],
   "source": [
    "using Polynomials"
   ]
  },
  {
   "cell_type": "code",
   "execution_count": null,
   "metadata": {},
   "outputs": [],
   "source": [
    "using BenchmarkTools"
   ]
  },
  {
   "cell_type": "code",
   "execution_count": null,
   "metadata": {},
   "outputs": [],
   "source": [
    "struct Lagrange\n",
    "    x::Vector{Float64}\n",
    "    y::Vector{Float64}\n",
    "    Lagrange(x, y) = new(copy(x), copy(y))\n",
    "end\n",
    "Base.Broadcast.broadcastable(lgr::Lagrange) = Ref(lgr)\n",
    "\n",
    "function lagrange(k, z, x)\n",
    " h = 1.0\n",
    "    n = length(z)\n",
    "    for i = 1:(k-1)\n",
    "        h *= (x - z[i]) / (z[k] - z[i])\n",
    "    end\n",
    "    \n",
    "    for i = (k+1):n\n",
    "        h *= (x - z[i]) / (z[k] - z[i])\n",
    "    end\n",
    "    return h\n",
    "end\n",
    "\n",
    "function interp(lgr::Lagrange, x)\n",
    "    \n",
    "    y = lgr.y[1] * lagrange(1, lgr.x, x)\n",
    "    \n",
    "    for i = 2:length(lgr.x)\n",
    "        y += lgr.y[i] * lagrange(i, lgr.x, x)\n",
    "    end\n",
    "    \n",
    "    return y\n",
    "end\n",
    "\n",
    "    \n",
    "(lgr::Lagrange)(x) = interp(lgr, x)    "
   ]
  },
  {
   "cell_type": "code",
   "execution_count": null,
   "metadata": {},
   "outputs": [],
   "source": [
    "struct LinearInterp\n",
    "    x::Vector{Float64}\n",
    "    y::Vector{Float64}\n",
    "    LinearInterp(x, y) = new(copy(x), copy(y))\n",
    "end\n",
    "Base.Broadcast.broadcastable(lin::LinearInterp) = Ref(lin)\n",
    "\n",
    "function interp(lin::LinearInterp, x)\n",
    "    \n",
    "    if x < lin.x[1] || x > lin.x[end]\n",
    "        error(\"Fora do Range\")\n",
    "    end\n",
    "    \n",
    "    index = 2\n",
    "    n = length(lin.x)\n",
    "    for i = 2:n\n",
    "        if lin.x[i] >= x\n",
    "            index = i\n",
    "            break\n",
    "        end\n",
    "    end\n",
    "    i1 = index-1\n",
    "    return lin.y[i1] + (lin.y[index] - lin.y[i1]) * (x - lin.x[i1]) / (lin.x[index] - lin.x[i1])\n",
    "    \n",
    "end\n",
    "\n",
    "(lin::LinearInterp)(x) = interp1(lin, x)\n"
   ]
  },
  {
   "cell_type": "code",
   "execution_count": null,
   "metadata": {},
   "outputs": [],
   "source": [
    "function linfit(x,y)\n",
    "    sx = sum(x)\n",
    "    sx2 = sum(x->x^2, x)\n",
    "    N = length(x)\n",
    "\n",
    "    sy = sum(y)\n",
    "    syx = sum(x[i]*y[i] for i in 1:N)\n",
    "    \n",
    "    return [N sx; sx sx2] \\ [sy; syx]\n",
    "end"
   ]
  },
  {
   "cell_type": "markdown",
   "metadata": {},
   "source": [
    "# Exercícios\n",
    "\n",
    "## Problema 1\n",
    "\n",
    "Interpole a função de Runge com $-1 \\le x \\le 1$:\n",
    "$$\n",
    "f(x) = \\frac{1}{1 + 25x^2}\n",
    "$$\n",
    "\n",
    " 1. Use 11 pontos uniformemente distribuídos\n",
    " 2. Aumente o número de pontos\n",
    " 3. Tente usar os pontos $x_k = \\cos\\left(\\frac{k\\pi}{N}\\right)$ para $k = 0\\ldots N$.\n",
    " 4. Brinque com o número de pontos\n",
    "\n"
   ]
  },
  {
   "cell_type": "code",
   "execution_count": null,
   "metadata": {},
   "outputs": [],
   "source": [
    "f(x) = 1.0 / (1.0 + 25x^2)\n",
    "x0 = range(-1.0, 1.0, length=501)\n",
    "y0 = f.(x0);"
   ]
  },
  {
   "cell_type": "markdown",
   "metadata": {},
   "source": [
    "### Pontos uniformemente distribuídos"
   ]
  },
  {
   "cell_type": "code",
   "execution_count": null,
   "metadata": {},
   "outputs": [],
   "source": [
    "x = range(-1.0, 1.0, length=11)\n",
    "y = f.(x);\n"
   ]
  },
  {
   "cell_type": "code",
   "execution_count": null,
   "metadata": {},
   "outputs": [],
   "source": [
    "lgr = Lagrange(x, y)"
   ]
  },
  {
   "cell_type": "code",
   "execution_count": null,
   "metadata": {},
   "outputs": [],
   "source": [
    "u = lgr.(x0);\n",
    "plot(x0, y0, \"r-\")\n",
    "plot(x, y, \"rs\")\n",
    "plot(x0, u, \"b--\")"
   ]
  },
  {
   "cell_type": "markdown",
   "metadata": {},
   "source": [
    "**Tá interpolando!** Mas que bosta!!!\n",
    "Será que é o número de pontos? Vamos ver..."
   ]
  },
  {
   "cell_type": "code",
   "execution_count": null,
   "metadata": {},
   "outputs": [],
   "source": [
    "x = range(-1.0, 1.0, length=12)\n",
    "y = f.(x)\n",
    "lgr = Lagrange(x, y)\n",
    "u = lgr.(x0);\n",
    "plot(x0, y0, \"r-\")\n",
    "plot(x, y, \"rs\")\n",
    "plot(x0, u, \"b--\")"
   ]
  },
  {
   "cell_type": "markdown",
   "metadata": {},
   "source": [
    "**Com 12 pontos, Melhorou as extremidades mas piorou o centro**. Vamos tentar com 13 pontos"
   ]
  },
  {
   "cell_type": "code",
   "execution_count": null,
   "metadata": {},
   "outputs": [],
   "source": [
    "x = range(-1.0, 1.0, length=13)\n",
    "y = f.(x)\n",
    "lgr = Lagrange(x, y)\n",
    "u = lgr.(x0);\n",
    "plot(x0, y0, \"r-\")\n",
    "plot(x, y, \"rs\")\n",
    "plot(x0, u, \"b--\")"
   ]
  },
  {
   "cell_type": "markdown",
   "metadata": {},
   "source": [
    "**Tem algo estranho!!! Vamos aumentar bastante o número de pontos** "
   ]
  },
  {
   "cell_type": "code",
   "execution_count": null,
   "metadata": {},
   "outputs": [],
   "source": [
    "x = range(-1.0, 1.0, length=51)\n",
    "y = f.(x)\n",
    "lgr = Lagrange(x, y)\n",
    "u = lgr.(x0);\n",
    "plot(x0, y0, \"r-\")\n",
    "plot(x, y, \"rs\")\n",
    "plot(x0, u, \"b--\")"
   ]
  },
  {
   "cell_type": "markdown",
   "metadata": {},
   "source": [
    "**Repare na escala. Tem um 1e6, ou seja o valor chega a 5 milhões. Será que a função realmente está interpolando???**"
   ]
  },
  {
   "cell_type": "code",
   "execution_count": null,
   "metadata": {},
   "outputs": [],
   "source": [
    "plot(x0, y0, \"r-\")\n",
    "ylim([-5, 5])\n",
    "plot(x, y, \"g.\")\n",
    "plot(x0, u, \"b--\")"
   ]
  },
  {
   "cell_type": "markdown",
   "metadata": {},
   "source": [
    "**Continua interpolando!?! Mas aumentando o número de pontos, só piora... Vamos ver o que acontece com número de pontos pares.**"
   ]
  },
  {
   "cell_type": "code",
   "execution_count": null,
   "metadata": {},
   "outputs": [],
   "source": [
    "x = range(-1.0, 1.0, length=52)\n",
    "y = f.(x)\n",
    "lgr = Lagrange(x, y)\n",
    "u = lgr.(x0);\n",
    "plot(x0, y0, \"r-\")\n",
    "plot(x, y, \"rs\")\n",
    "plot(x0, u, \"b--\")"
   ]
  },
  {
   "cell_type": "code",
   "execution_count": null,
   "metadata": {},
   "outputs": [],
   "source": [
    "plot(x0, y0, \"r-\")\n",
    "ylim([-5, 5])\n",
    "plot(x, y, \"g.\")\n",
    "plot(x0, u, \"b--\")"
   ]
  },
  {
   "cell_type": "markdown",
   "metadata": {},
   "source": [
    "**É... Quanto mais pontos pior fica! Isto é o fenômeno de Runge**."
   ]
  },
  {
   "cell_type": "markdown",
   "metadata": {},
   "source": [
    "### Pontos $x_k = \\cos\\left(\\frac{k\\pi}{N}\\right)$"
   ]
  },
  {
   "cell_type": "code",
   "execution_count": null,
   "metadata": {},
   "outputs": [],
   "source": [
    "chebpoints(N) = cos.((0:N) .* π ./ N )"
   ]
  },
  {
   "cell_type": "code",
   "execution_count": null,
   "metadata": {},
   "outputs": [],
   "source": [
    "x = chebpoints(11);\n",
    "y = f.(x);\n",
    "lgr = Lagrange(x, y)\n",
    "u = lgr.(x0);\n",
    "plot(x0, y0, \"r-\")\n",
    "plot(x, y, \"rs\")\n",
    "plot(x0, u, \"b--\")\n"
   ]
  },
  {
   "cell_type": "markdown",
   "metadata": {},
   "source": [
    "**Não está muito bom mas está melhor do que antes**"
   ]
  },
  {
   "cell_type": "code",
   "execution_count": null,
   "metadata": {},
   "outputs": [],
   "source": [
    "for i in 1:length(x)\n",
    "    l0 = lagrange.(i, Ref(x), x0)\n",
    "    plot(x0, l0)\n",
    "    axvline(x[i], color=\"k\", ls=\":\")\n",
    "end\n",
    "axhline(1.0, c=\"k\", ls=\"--\")\n"
   ]
  },
  {
   "cell_type": "code",
   "execution_count": null,
   "metadata": {},
   "outputs": [],
   "source": [
    "x = chebpoints(12);\n",
    "y = f.(x);\n",
    "lgr = Lagrange(x, y)\n",
    "u = lgr.(x0);\n",
    "plot(x0, y0, \"r-\")\n",
    "plot(x, y, \"rs\")\n",
    "plot(x0, u, \"b--\")\n"
   ]
  },
  {
   "cell_type": "code",
   "execution_count": null,
   "metadata": {},
   "outputs": [],
   "source": [
    "x = chebpoints(51);\n",
    "y = f.(x);\n",
    "lgr = Lagrange(x, y)\n",
    "u = lgr.(x0);\n",
    "plot(x0, y0, \"r-\")\n",
    "plot(x, y, \"g.\")\n",
    "plot(x0, u, \"b--\")\n"
   ]
  },
  {
   "cell_type": "code",
   "execution_count": null,
   "metadata": {},
   "outputs": [],
   "source": [
    "plot(x0, y0, \"r-\")\n",
    "xlim([-1.0, -0.75])\n",
    "ylim([0.0, 0.2])\n",
    "plot(x, y, \"g.\")\n",
    "plot(x0, u, \"b--\")\n"
   ]
  },
  {
   "cell_type": "code",
   "execution_count": null,
   "metadata": {},
   "outputs": [],
   "source": [
    "maximum(abs, u-y0)"
   ]
  },
  {
   "cell_type": "markdown",
   "metadata": {},
   "source": [
    "### Vamos ver como o erro se comporta?"
   ]
  },
  {
   "cell_type": "code",
   "execution_count": null,
   "metadata": {},
   "outputs": [],
   "source": [
    "function maxerr(fun, n, xpts)\n",
    "    x = chebpoints(n)\n",
    "    y = fun.(x)\n",
    "    lgr = Lagrange(x, y)\n",
    "    y0 = fun.(x0)\n",
    "    u0 = lgr.(x0)\n",
    "    #plot(x0, y0, \"r-\")\n",
    "    #plot(x0, u0, \"b--\")\n",
    "    #plot(x, y, \"g.\")\n",
    "    \n",
    "    return maximum(abs, u0 - y0)\n",
    "    \n",
    "end"
   ]
  },
  {
   "cell_type": "code",
   "execution_count": null,
   "metadata": {},
   "outputs": [],
   "source": [
    "N = 2:50\n",
    "ε = maxerr.(f, N, Ref(x0));\n"
   ]
  },
  {
   "cell_type": "code",
   "execution_count": null,
   "metadata": {},
   "outputs": [],
   "source": [
    "semilogy(N, ε, \"ro-\")"
   ]
  },
  {
   "cell_type": "markdown",
   "metadata": {},
   "source": [
    "## Problema 2\n",
    "\n",
    "Procure na Net o método de diferenças divididas de Newton a interpole a função anterior nos mesmos pontos. Este método é simplesmente um jeito inteligente de resolver a matriz apresentada lá em cima.\n",
    "\n"
   ]
  },
  {
   "cell_type": "markdown",
   "metadata": {},
   "source": [
    "### Diferenças divididas de Newton"
   ]
  },
  {
   "cell_type": "code",
   "execution_count": null,
   "metadata": {},
   "outputs": [],
   "source": [
    "function divdiffmat(x)\n",
    "    n = length(x)\n",
    "    \n",
    "    A = zeros(n,n)\n",
    "    for i = 1:n\n",
    "        A[i,1] = 1.0\n",
    "        for k in 2:i\n",
    "            A[i, k] = A[i,k-1] * (x[i] - x[k-1])\n",
    "        end\n",
    "    end\n",
    "    \n",
    "    return A\n",
    "    \n",
    "end"
   ]
  },
  {
   "cell_type": "code",
   "execution_count": null,
   "metadata": {},
   "outputs": [],
   "source": [
    "using LinearAlgebra"
   ]
  },
  {
   "cell_type": "code",
   "execution_count": null,
   "metadata": {},
   "outputs": [],
   "source": [
    "struct DividedDiff\n",
    "    x::Vector{Float64}\n",
    "    a::Vector{Float64}\n",
    "end\n",
    "function divideddiff(x, y)\n",
    "    A = LowerTriangular(divdiffmat(x))\n",
    "    a = A\\y\n",
    "    return DividedDiff(copy(x), a)\n",
    "end\n",
    "Base.Broadcast.broadcastable(ddif::DividedDiff) = Ref(ddif)\n",
    "\n",
    "\n",
    "function interp(ddif::DividedDiff, x)\n",
    "    xx = ddif.x\n",
    "    a = ddif.a\n",
    "    \n",
    "    y = a[end] \n",
    "    \n",
    "    for i in (lastindex(a)-1):-1:1\n",
    "        y = a[i] + (x-xx[i])*y\n",
    "    end\n",
    "    return y\n",
    "end\n",
    "(ddif::DividedDiff)(x) = interp1(ddif, x)\n"
   ]
  },
  {
   "cell_type": "markdown",
   "metadata": {},
   "source": [
    "## Algorítmo de Newton\n",
    "\n",
    "Um jeito interessante de calcular a interpolação usando diferenças divididas. Ao se resolver o sistema linear, pode-se escrever a solução como:\n",
    "\n",
    "$$\n",
    "\\begin{align}\n",
    "a_0 &= f(x_0)\\\\\n",
    "a_1 & = \\frac{f(x_1) - f(y_0)}{x_1 - x_0}\\\\\n",
    "a_2 &= \\frac{\\frac{f(x_2)-f(x_0)}{x_2-x_0} - \\frac{f(x_1) - f(x_0)}{x_1-x_0} }{x_2 - x_1}\\\\\n",
    "\\vdots &=  \\vdots\\\\\n",
    "\\end{align}\n",
    "$$\n",
    "\n",
    "o k-ésimo coeficiente vale:\n",
    "$$\n",
    "a_k = \\mathcal{F}\\left(x_0, x_1, \\ldots, x_k\\right)\n",
    "$$\n",
    "\n",
    "com \n",
    "$$\n",
    "\\mathcal{F}\\left(x_0, x_1, \\ldots, x_k\\right) = \\frac{\\mathcal{F}\\left(x_0, x_1, \\ldots, x_{k-1}\\right) -\\mathcal{F}\\left(x_1, x_1, \\ldots, x_k\\right)}{x_0-x_k}\n",
    "$$"
   ]
  },
  {
   "cell_type": "code",
   "execution_count": null,
   "metadata": {},
   "outputs": [],
   "source": [
    "function newton_divdiff(x, y)\n",
    "    \n",
    "    n = length(x)\n",
    "    F = zeros(n)\n",
    "    F0 = zeros(n)\n",
    "    F1 = zeros(n)\n",
    "    \n",
    "    F0[1] = y[1]\n",
    "    F1[1] = y[1]\n",
    "    F[1] = y[1]\n",
    "    \n",
    "    for i = 2:n\n",
    "        F1[1] = y[i]\n",
    "        for k in 2:i\n",
    "            F1[k] = (F1[k-1] - F0[k-1]) / (x[i] - x[i-k+1])\n",
    "        end\n",
    "        F[i] = F1[i]\n",
    "        for k in 1:i\n",
    "            F0[k] = F1[k]\n",
    "        end\n",
    "    end\n",
    "    \n",
    "    return DividedDiff(copy(x), F)\n",
    "    \n",
    "end\n"
   ]
  },
  {
   "cell_type": "code",
   "execution_count": null,
   "metadata": {},
   "outputs": [],
   "source": [
    "x = range(-1.0, 1.0, length=11)\n",
    "y = f.(x)\n",
    "ddiff = divideddiff(x, y)\n",
    "y0 = f.(x0)\n",
    "u = ddiff.(x0);\n",
    "\n",
    "plot(x0, y0, \"r-\")\n",
    "plot(x0, u, \"b--\")\n",
    "plot(x, y, \"g.\")"
   ]
  },
  {
   "cell_type": "markdown",
   "metadata": {},
   "source": [
    "**Alguém esperava algo melhor? Existe apenas um polinômio passando por um conjunto de pontos!!!**"
   ]
  },
  {
   "cell_type": "code",
   "execution_count": null,
   "metadata": {},
   "outputs": [],
   "source": [
    "f1(x) = sin(π*x)\n",
    "\n",
    "x = range(-1, 1.0, length=7)\n",
    "y = f1.(x);\n",
    "ddiff = divideddiff(x, y)\n",
    "plot(x0, f1.(x0))\n",
    "plot(x0, interp1.(ddiff, x0), \"r--\")\n",
    "plot(x, y, \"g.\")\n"
   ]
  },
  {
   "cell_type": "code",
   "execution_count": null,
   "metadata": {},
   "outputs": [],
   "source": [
    "d1 = divideddiff(x, y)\n",
    "d2 = newton_divdiff(x, y);\n",
    "\n",
    "d1.a - d2.a"
   ]
  },
  {
   "cell_type": "markdown",
   "metadata": {},
   "source": [
    "### Problema 3\n",
    "\n",
    "Use a biblioteca Interpolations.jl e Dierckx.jl para fazer as interpolações. Compare a interpolação linear com os splines.\n",
    "\n"
   ]
  },
  {
   "cell_type": "code",
   "execution_count": null,
   "metadata": {},
   "outputs": [],
   "source": [
    "using Interpolations"
   ]
  },
  {
   "cell_type": "code",
   "execution_count": null,
   "metadata": {},
   "outputs": [],
   "source": [
    "x = -1:0.2:1\n",
    "y = f.(x);\n"
   ]
  },
  {
   "cell_type": "code",
   "execution_count": null,
   "metadata": {},
   "outputs": [],
   "source": [
    "itp1 = interpolate((x,),  y, Gridded(Constant()));\n",
    "itp2 = interpolate((x,),  y, Gridded(Linear()));"
   ]
  },
  {
   "cell_type": "code",
   "execution_count": null,
   "metadata": {},
   "outputs": [],
   "source": [
    "xx = -1:0.001:1\n",
    "yy = f.(xx)\n",
    "yy1 = itp1.(xx);\n",
    "yy2 = itp2.(xx);\n",
    "plot(x, y, \"rs\")\n",
    "plot(xx, yy, \"r-\")\n",
    "plot(xx, yy1, \"b-\")\n",
    "plot(xx, yy2, \"b--\")"
   ]
  },
  {
   "cell_type": "code",
   "execution_count": null,
   "metadata": {},
   "outputs": [],
   "source": [
    "itp3 = CubicSplineInterpolation((x,), y; bc=Line(OnGrid()));\n",
    "\n",
    "yy3 = itp3.(xx)\n",
    "\n",
    "plot(x, y, \"rs\")\n",
    "plot(xx, yy, \"r-\")\n",
    "plot(xx, yy3, \"b:\")"
   ]
  },
  {
   "cell_type": "code",
   "execution_count": null,
   "metadata": {},
   "outputs": [],
   "source": [
    "function compare(h, x)\n",
    "    xp = -1:h:1\n",
    "    yp = f.(xp)\n",
    "    \n",
    "    \n",
    "    itp1 =  interpolate((xp,),  yp, Gridded(Constant()));\n",
    "    itp2 =  interpolate((xp,),  yp, Gridded(Linear()));\n",
    "    itp3 = CubicSplineInterpolation((xp,), yp, bc=Flat(OnGrid()));\n",
    "    fx = f(x)\n",
    "    return itp1(x)-fx, itp2(x)-fx, itp3(x)-fx\n",
    "end\n"
   ]
  },
  {
   "cell_type": "code",
   "execution_count": null,
   "metadata": {},
   "outputs": [],
   "source": [
    "hstep = [1.0, 0.5, 0.4, 0.2, 0.1, 0.05, 0.02, 0.01, 0.001]\n",
    "nn = 2.0 ./ hstep\n",
    "erra = [compare(h, -1+h/4) for h in hstep]\n",
    "errb = [compare(h, h/4) for h in hstep];\n",
    "errc = [compare(h, -0.9905) for h in hstep];\n",
    "errd = [compare(h, 0.0005) for h in hstep];\n"
   ]
  },
  {
   "cell_type": "code",
   "execution_count": null,
   "metadata": {},
   "outputs": [],
   "source": [
    "ea1 = [abs(e[1]) for e in erra]\n",
    "ea2 = [abs(e[2]) for e in erra]\n",
    "ea3 = [abs(e[3]) for e in erra]\n",
    "\n",
    "eb1 = [abs(e[1]) for e in errb]\n",
    "eb2 = [abs(e[2]) for e in errb]\n",
    "eb3 = [abs(e[3]) for e in errb];\n",
    "\n",
    "ec1 = [abs(e[1]) for e in errc]\n",
    "ec2 = [abs(e[2]) for e in errc]\n",
    "ec3 = [abs(e[3]) for e in errc];\n",
    "\n",
    "ed1 = [abs(e[1]) for e in errd]\n",
    "ed2 = [abs(e[2]) for e in errd]\n",
    "ed3 = [abs(e[3]) for e in errd];"
   ]
  },
  {
   "cell_type": "code",
   "execution_count": null,
   "metadata": {},
   "outputs": [],
   "source": [
    "loglog(nn, ea1, \"rs-\")\n",
    "loglog(nn, ea2, \"bo-\")\n",
    "loglog(nn, ea3, \"g^-\")\n"
   ]
  },
  {
   "cell_type": "code",
   "execution_count": null,
   "metadata": {},
   "outputs": [],
   "source": [
    "loglog(nn, eb1, \"rs-\")\n",
    "loglog(nn, eb2, \"bo-\")\n",
    "loglog(nn, eb3, \"g^-\")\n"
   ]
  },
  {
   "cell_type": "markdown",
   "metadata": {},
   "source": [
    "### Problema 4\n",
    "\n",
    "Crie funções para fazer os seguintes problemas de mínimos quadrados:\n",
    " * $y = a_0 x^ a_1$\n",
    " * $y = a_0 \\exp \\left( a_1 \\cdot x\\right)$\n",
    " * Polinômio genérico de ordem n\n",
    "\n"
   ]
  },
  {
   "cell_type": "markdown",
   "metadata": {},
   "source": [
    "### $y = a_0 x^ a_1$\n",
    "\n",
    "Este é um problema não linear! Então precisamos transformar isso em um problema linear.\n",
    "\n",
    "Tirando o log dos dois lados temos uma expressão do tipo:\n",
    "\n",
    "$$\n",
    "\\log y = \\log a_0 + a_1 \\cdot \\log x\n",
    "$$\n",
    "\n",
    "Agora é fazer o ajuste disso."
   ]
  },
  {
   "cell_type": "code",
   "execution_count": null,
   "metadata": {},
   "outputs": [],
   "source": [
    "function powerfit(x, y)\n",
    "    lnx = log.(x)\n",
    "    lny = log.(y)\n",
    "    fit = linfit(lnx, lny)\n",
    "    return [exp(fit[1]), fit[2]]\n",
    "end\n"
   ]
  },
  {
   "cell_type": "code",
   "execution_count": null,
   "metadata": {},
   "outputs": [],
   "source": [
    "x = 1.0:0.2:5.0\n",
    "y = 1.1 .* x .^ (-2.2);"
   ]
  },
  {
   "cell_type": "code",
   "execution_count": null,
   "metadata": {},
   "outputs": [],
   "source": [
    "powerfit(x, y)"
   ]
  },
  {
   "cell_type": "markdown",
   "metadata": {},
   "source": [
    "### $y = a_0 x^ a_1$\n",
    "\n",
    "Este problema também é não linear! Então precisamos transformar isso em um problema linear.\n",
    "\n",
    "Tirando o log dos dois lados temos uma expressão do tipo:\n",
    "\n",
    "$$\n",
    "\\log y = \\log a_0 + a_1 \\cdot x\n",
    "$$\n"
   ]
  },
  {
   "cell_type": "code",
   "execution_count": null,
   "metadata": {},
   "outputs": [],
   "source": [
    "function expfit(x, y)\n",
    "    lny = log.(y)\n",
    "    fit = linfit(x, lny)\n",
    "    return [exp(fit[1]), fit[2]]\n",
    "end"
   ]
  },
  {
   "cell_type": "code",
   "execution_count": null,
   "metadata": {},
   "outputs": [],
   "source": [
    "x = 1.0:0.2:5.0\n",
    "y = 1.1 .* exp.(2.2 .* x);"
   ]
  },
  {
   "cell_type": "code",
   "execution_count": null,
   "metadata": {},
   "outputs": [],
   "source": [
    "expfit(x, y)"
   ]
  },
  {
   "cell_type": "markdown",
   "metadata": {},
   "source": [
    "### Ajuste polinomial\n",
    "\n",
    "Agora queremos ajustar os pontos com um polinômio de grau $n$:\n",
    "\n",
    "$$\n",
    "y = a_0 + a_1\\cdot x + a_2\\cdot x^2 + \\cdots + a_n\\cdot x^n\n",
    "$$\n",
    "\n",
    "Usando o método dos mínimo quadrados, chegamos à seguinte equação:\n",
    "\n",
    "$$\n",
    "\\left(\n",
    "\\begin{matrix}\n",
    "\\sum_{i=1}^Q 1 & \\sum_{i=1}^Q x_i & \\cdots & \\sum_{i=1}^Q x_i^n \\\\\n",
    "\\sum_{i=1}^Q x_i & \\sum_{i=1}^Q x_i^2 &  \\cdots & \\sum_{i=1}^Q x_i^{n+1}\\\\\n",
    "\\vdots & \\vdots & \\ddots & \\vdots \\\\\n",
    "\\sum_{i=1}^Q x_i^n & \\sum_{i=1}^Q x_i^{n+1} &  \\cdots & \\sum_{i=1}^Q x_i^{2n} \\\\\n",
    "\\end{matrix}\\right)\n",
    "\\cdot\n",
    "\\left(\\begin{matrix} a_0 \\\\ a_1 \\\\ \\vdots \\\\ a_n \\end{matrix}\\right)\n",
    "= \n",
    "\\left(\\begin{matrix} \\sum_{i=1}^Q y_i \\\\ \\sum_{i=1}^Q y_i x_i \\\\  \\vdots \\\\ \\sum_{i=1}^Q y_i x_i^n\\end{matrix}\\right)\n",
    "$$\n",
    " \n",
    "\n",
    "\n",
    "\n"
   ]
  },
  {
   "cell_type": "code",
   "execution_count": null,
   "metadata": {},
   "outputs": [],
   "source": [
    "using Polynomials"
   ]
  },
  {
   "cell_type": "code",
   "execution_count": null,
   "metadata": {},
   "outputs": [],
   "source": [
    "function polyfit(x, y, n, var=:x)\n",
    "    A = zeros(n+1, n+1)\n",
    "    b = zeros(n+1)\n",
    "    S = zeros(2n + 1)\n",
    "    \n",
    "    npts = length(x)\n",
    "    \n",
    "    S[1] = npts\n",
    "    \n",
    "    for i in 1:2n\n",
    "        s = 0.0\n",
    "        for k in 1:npts\n",
    "            s += x[k]^i\n",
    "        end\n",
    "        S[i+1] = s\n",
    "    end\n",
    "    \n",
    "    b[1] = sum(y)\n",
    "    \n",
    "    for i in 1:n\n",
    "        s = 0.0\n",
    "        for k in 1:npts\n",
    "            s += y[k]*x[k]^i\n",
    "        end\n",
    "        b[i+1] = s\n",
    "    end\n",
    "    \n",
    "    for j in 0:n\n",
    "        for i in 0:n\n",
    "            A[i+1,j+1] = S[i+j+1]\n",
    "        end\n",
    "    end\n",
    "    \n",
    "    return Polynomial(A\\b, var)\n",
    "    \n",
    "end\n"
   ]
  },
  {
   "cell_type": "code",
   "execution_count": null,
   "metadata": {},
   "outputs": [],
   "source": [
    "f4(x) = 1.0 + x + x^2"
   ]
  },
  {
   "cell_type": "code",
   "execution_count": null,
   "metadata": {},
   "outputs": [],
   "source": [
    "x = 0:0.2:10\n",
    "y = f4.(x);"
   ]
  },
  {
   "cell_type": "code",
   "execution_count": null,
   "metadata": {},
   "outputs": [],
   "source": [
    "polyfit(x, y, 2)"
   ]
  },
  {
   "cell_type": "code",
   "execution_count": null,
   "metadata": {},
   "outputs": [],
   "source": [
    "polyfit(x, y, 3)"
   ]
  },
  {
   "cell_type": "code",
   "execution_count": null,
   "metadata": {},
   "outputs": [],
   "source": [
    "polyfit(x, y, 4)"
   ]
  },
  {
   "cell_type": "code",
   "execution_count": null,
   "metadata": {},
   "outputs": [],
   "source": [
    "polyfit(x, y, 5)"
   ]
  },
  {
   "cell_type": "code",
   "execution_count": null,
   "metadata": {},
   "outputs": [],
   "source": []
  }
 ],
 "metadata": {
  "@webio": {
   "lastCommId": null,
   "lastKernelId": null
  },
  "kernelspec": {
   "display_name": "Julia 1.4.1",
   "language": "julia",
   "name": "julia-1.4"
  },
  "language_info": {
   "file_extension": ".jl",
   "mimetype": "application/julia",
   "name": "julia",
   "version": "1.4.1"
  }
 },
 "nbformat": 4,
 "nbformat_minor": 2
}
