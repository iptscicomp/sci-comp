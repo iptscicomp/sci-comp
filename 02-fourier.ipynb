{
 "cells": [
  {
   "cell_type": "markdown",
   "metadata": {
    "slideshow": {
     "slide_type": "slide"
    }
   },
   "source": [
    "# Interpolação trigonométrica: Séries de Fourier, DFT e FFT\n",
    "\n",
    " * Até agora usamos polinômios para aproximar e interpolar\n",
    " * Outra possibilidade: senos e cossenos\n",
    " * Extremamente versátil e poderoso\n",
    " * Usado em eqs. diferenciais, análise matemática, funções aleatórias, etc, etc, etc ..."
   ]
  },
  {
   "cell_type": "markdown",
   "metadata": {
    "slideshow": {
     "slide_type": "slide"
    }
   },
   "source": [
    "## Polinômio trigonométrico\n",
    "\\begin{align}\n",
    "S_N(x) = \\frac{a_0}{2} +& a_1 \\cos\\left(\\frac{2\\pi x}{L_0}\\right) + a_2\\cos\\left(\\frac{4\\pi x}{L_0}\\right) + \\cdots + a_N\\cos\\left(\\frac{2\\pi n  x}{L_0}\\right) + \\\\ \n",
    "&b_1 \\sin\\left(\\frac{2\\pi x}{L_0}\\right) + b_2\\sin\\left(\\frac{4\\pi x}{L_0}\\right) + \\cdots + b_N\\sin\\left(\\frac{2\\pi N  x}{L_0}\\right)\n",
    "\\end{align}\n",
    "\n",
    "Nesta equação, $T_0$ é o período da função.\n",
    "\n",
    "O que temos é uma base $\\phi_n(t)$ com $2N+1$ termos:\n",
    "\\begin{align}\n",
    "\\phi_0(x) &= \\frac{1}{2}\\\\\n",
    "\\phi_n(x) &= \\cos\\left(\\frac{2\\pi n x}{L_0}\\right) \\qquad 0\\le n \\le N \\\\\n",
    "\\phi_{n+N}(x) &= \\sin\\left(\\frac{2\\pi n x}{L_0}\\right) \\qquad 1\\le n \\le N \n",
    "\\end{align}\n"
   ]
  },
  {
   "cell_type": "markdown",
   "metadata": {
    "slideshow": {
     "slide_type": "slide"
    }
   },
   "source": [
    "## Como calcular os coeficientes $a_i$ e $b_i$??? \n",
    "**Ortogonalidade de senos e cossenos**\n",
    "\n",
    "\\begin{align}\n",
    "\\int_{-L_0/2}^{L_0/2} \\cos\\left(\\frac{2\\pi n x}{L_0}\\right) \\cdot \\cos\\left(\\frac{2\\pi m x}{L_0}\\right) \\: dx &= \\left\\{\\begin{matrix}0 \\quad n\\neq m\\\\ \\frac{L_0}{2} \\quad n=m\\end{matrix}\\right.\\\\\n",
    "\\int_{-L_0/2}^{L_0/2} \\sin\\left(\\frac{2\\pi n x}{L_0}\\right) \\cdot \\sin\\left(\\frac{2\\pi m x}{L_0}\\right) \\: dx &= \\left\\{\\begin{matrix}0 \\quad n\\neq m\\\\ \\frac{L_0}{2} \\quad n=m\\end{matrix}\\right.\\\\\n",
    "\\int_{-L_0/2}^{L_0/2} \\cos\\left(\\frac{2\\pi n x}{L_0}\\right) \\cdot \\sin\\left(\\frac{2\\pi m x}{T_0}\\right) \\: dx &= 0\\\\\n",
    "\\end{align}\n",
    "\n"
   ]
  },
  {
   "cell_type": "markdown",
   "metadata": {
    "slideshow": {
     "slide_type": "slide"
    }
   },
   "source": [
    "## Como calcular os coeficientes?\n",
    "\n",
    "\\begin{align}\n",
    "a_n &= \\frac{2}{L_0}\\int_{-L_0/2}^{L_0/2} y(x) \\cdot \\cos\\left(\\frac{2\\pi n x}{L_0}\\right)\\: dx \\\\\n",
    "b_m &= \\frac{2}{L_0}\\int_{-L_0/2}^{L_0} y(x) \\cdot \\sin\\left(\\frac{2\\pi m x}{L_0}\\right)\\: dx \\\\\n",
    "\\end{align}\n",
    "\n"
   ]
  },
  {
   "cell_type": "markdown",
   "metadata": {
    "slideshow": {
     "slide_type": "slide"
    }
   },
   "source": [
    "## Exemplo: $y(x) = |x|, -1 \\le x \\le 1$ ($L_0 = 2$)\n",
    "\\begin{align}\n",
    "a_0 &= 2\\int_0^1 x\\:dx \\qquad a_0 = 1\\\\\n",
    "a_n &= 2\\int_0^1 \\cos\\left(\\frac{2\\pi n x}{2}\\right)\\:dx \\qquad a_n = \\frac{2}{\\pi^2 n^2}\\cdot\\left[(-1)^n - 1\\right] \\\\\n",
    "b_n &= 0\n",
    "\\end{align}"
   ]
  },
  {
   "cell_type": "markdown",
   "metadata": {
    "slideshow": {
     "slide_type": "slide"
    }
   },
   "source": [
    "## Usando o SymPy"
   ]
  },
  {
   "cell_type": "code",
   "execution_count": null,
   "metadata": {},
   "outputs": [],
   "source": [
    "using SymPy\n",
    "x = symbols(\"x\", real=true)\n",
    "n = symbols(\"n\", integer=true, positive=true)\n",
    "a0f  =  2 * integrate(x, (x, 0, 1))\n",
    "anf = 2 * integrate(x * cos(2PI*n*x/2), (x, 0, 1))"
   ]
  },
  {
   "cell_type": "code",
   "execution_count": null,
   "metadata": {},
   "outputs": [],
   "source": [
    "function abst(t, n)\n",
    "    x = 1.0/2\n",
    "    for i in 1:2:n\n",
    "        ai = 2/(π*i)^2 * ((-1)^i - 1)\n",
    "        x += ai * cos(π*i*t)\n",
    "    end\n",
    "    return x\n",
    "end"
   ]
  },
  {
   "cell_type": "code",
   "execution_count": null,
   "metadata": {},
   "outputs": [],
   "source": [
    "using PyPlot"
   ]
  },
  {
   "cell_type": "code",
   "execution_count": null,
   "metadata": {
    "slideshow": {
     "slide_type": "slide"
    }
   },
   "outputs": [],
   "source": [
    "xx = -1:0.002:1; yy = abs.(xx); y1 = abst.(xx, 1); y3 = abst.(xx, 3); y5 = abst.(xx, 5); y7 = abst.(xx, 7);\n",
    "plot(xx, yy, \"b:\", label=\"Exato\"); plot(xx, y1, label=\"n = 1\"); plot(xx, y3, label=\"n = 3\"); \n",
    "plot(xx, y5, label=\"n = 5\"); plot(xx, y7, label=\"n = 7\"); legend()"
   ]
  },
  {
   "cell_type": "markdown",
   "metadata": {
    "slideshow": {
     "slide_type": "slide"
    }
   },
   "source": [
    "## Vamos generalizar?\n",
    "\n",
    "Imagine que queremos aproximar $u(x)$ usando uma base ortogonal $\\phi_n(x)$ com $1 \\le n \\le N$ no domínio $a \\le x \\le b$:\n",
    "$$\n",
    "u(x) \\approx u^\\delta(x) = \\sum_{n=1}^N \\hat{u}_n \\phi_n(x)\n",
    "$$\n",
    "O erro da aproximação vale:\n",
    "$$\n",
    "\\varepsilon(x) = u^\\delta(x) - (x) \\quad\\longrightarrow\\quad \\varepsilon^2 = \\int_a^b w(x)\\left[ u^\\delta(x) - u(x) \\right]^2\\:dx\n",
    "$$\n",
    "\n",
    "Nesta equação, $w(x)$ é uma função de peso que agora vamos considerar constante e igual a 1.\n"
   ]
  },
  {
   "cell_type": "markdown",
   "metadata": {
    "slideshow": {
     "slide_type": "slide"
    }
   },
   "source": [
    "## Mínimos quadrados.\n",
    "$$\n",
    "\\varepsilon^2 = f(\\hat{u}_1, \\ldots, \\hat{u}_N)\n",
    "$$\n",
    "Para minimizar o erro, fazemos como fizemos na aula anterior:\n",
    "$$\n",
    "\\frac{\\partial \\varepsilon^2}{\\partial \\hat{u}_k} = 0 \\quad 1 \\le k \\le N\n",
    "$$\n",
    "\n",
    "Com isso chegamos ao seguinte sistema de equações lineares:\n",
    "$$\n",
    "\\sum_{j=1}^N \\hat{u}_j \\int_a^b w(x)\\phi_n(x)\\phi_k(x)\\:dx = \\int_a^b w(x)\\hat{u}_k u(x)\\:dx \\qquad 1\\le k \\le N\n",
    "$$\n"
   ]
  },
  {
   "cell_type": "markdown",
   "metadata": {
    "slideshow": {
     "slide_type": "slide"
    }
   },
   "source": [
    "## Base ortogonal:\n",
    "\n",
    "$$\n",
    "\\int_a^b w(x) \\phi_j(x) \\phi_k(x) \\:dx = \n",
    "\\left\\{\\begin{matrix} 0 & \\quad &  se\\: j\\ne k \\\\ \\gamma(k) & \\quad & se\\: j=k\\end{matrix}\\right.\n",
    "$$\n",
    "Quando $\\gamma(k) = 1$ para $1\\le k \\le N$, a base é ortonormal.\n",
    "\n",
    "Para a função de peso $w(x)=1$ e a base formada com senos e cossenos, recuperamos as equações para $a_n$ e $b_n$ acima.\n",
    "\n",
    "**Sempre que possível, use bases ortogonais**\n",
    "\n",
    "Quando não for possível, ainda ajuda usar bases parcialmente ortogonais."
   ]
  },
  {
   "cell_type": "markdown",
   "metadata": {
    "slideshow": {
     "slide_type": "slide"
    }
   },
   "source": [
    "## Mínimos quadrados discreto\n",
    "\n",
    "Neste caso, com uma base $\\phi_n(x)$ com $1\\le n \\le N$ e com a função $u(x)$ conhecida nos pontos $x_k$, $1 \\le k \\le Q$, podemos usar o método dos mínimos quadrados:\n",
    "$$\n",
    "\\varepsilon^2 = \\sum_{k=1}^Q w_k\\left[u^\\delta(x_k) - u(x_k)\\right]^2 = \\sum_{k=1}^Q w_k\\left[\\left(\\sum_{n=1}^N \\hat{u}_n \\phi_n(x)\\right) - u_k\\right]^2\n",
    "$$\n",
    "\n",
    "Chegamos ao sistema apresentado na aula anterior:\n",
    "\n",
    "$$\n",
    "\\left(\n",
    "\\begin{matrix}\n",
    "\\sum_{k=1}^Q w_k\\phi_1(x_k)\\cdot\\phi_1(x_k) & \n",
    "\\cdots &\n",
    "\\sum_{k=1}^Q w_k\\phi_1(x_k)\\cdot\\phi_N(x_k) \\\\\n",
    "\\sum_{k=1}^Q w_k\\phi_2(x_k)\\cdot\\phi_1(x_k) & \n",
    "\\cdots &\n",
    "\\sum_{k=1}^Q w_k\\phi_2(x_k)\\cdot\\phi_N(x_k) \\\\\n",
    "\\vdots & \\ddots & \\vdots \\\\\n",
    "\\sum_{k=1}^Q w_k\\phi_N(x_k)\\cdot\\phi_1(x_k) & \n",
    "\\cdots &\n",
    "\\sum_{k=1}^Q w_k\\phi_N(x_k)\\cdot\\phi_N(x_k) \\\\\n",
    "\\end{matrix}\\right)\n",
    "\\cdot\n",
    "\\left(\\begin{matrix} \\hat{u}_1 \\\\ \\hat{u}_2 \\\\ \\vdots \\\\ \\hat{u}_N \\end{matrix}\\right)\n",
    "= \n",
    "\\left(\\begin{matrix} \\sum_{k=1}^Q w_k u_k \\phi_1(x_k) \\\\ \\sum_{k=1}^Q w_k u_k \\phi_2(x_k) \\\\  \\vdots \\\\ \\sum_{k=1}^Q w_k u_k \\phi_N(x_k)\\end{matrix}\\right)\n",
    "$$\n",
    "\n",
    "Aqui introduzimos a possibilidade de haver um peso $w_k$ para cada ponto."
   ]
  },
  {
   "cell_type": "markdown",
   "metadata": {
    "slideshow": {
     "slide_type": "slide"
    }
   },
   "source": [
    "## Voltando para os polinômios trigonométricos...\n",
    "\n",
    "### Ortogonalidade discreta\n",
    "Já vimos que a base dos polinômios trigonométricos é ortogonal, de modo que para $k\\ne n$, \n",
    "$$\n",
    "\\int_{-L_0/2}^{L_0/2} \\phi_n(x) \\cdot \\phi_k(x) \\: dx = 0\n",
    "$$\n",
    "Mas podemos aproximar esta integral, chamando $\\Delta x = L_0 / Q$\n",
    "$$\n",
    "\\int_{-L_0/2}^{L_0/2} \\phi_n(x) \\cdot \\phi_k(x) \\: dx \\approx \\Delta x\\cdot \\sum_{i=0}^Q \\phi_n(x_i)\\cdot \\phi_k(x_i)  \\approx 0 \\qquad x_i = -\\frac{L_0}{2} + i\\cdot\\Delta x\\quad i = 0, \\ldots, Q-1\n",
    "$$\n"
   ]
  },
  {
   "cell_type": "markdown",
   "metadata": {
    "slideshow": {
     "slide_type": "slide"
    }
   },
   "source": [
    "## Ortogonalidade discreta\n",
    "Admitindo que temos $Q$ pontos $x_j = j\\cdot \\Delta x$ para $0\\le j\\le Q$ e $\\Delta x = L_0/Q$, demonstra-se que\n",
    "\n",
    "$$\n",
    "\\sum_{j=0}^{Q-1} \\cos\\left(\\frac{2\\pi n x_j}{L_0}\\right) = 0 \\qquad\n",
    "\\sum_{j=0}^{Q-1} \\sin\\left(\\frac{2\\pi n x_j}{L_0}\\right) = 0\n",
    "$$\n",
    "quando $n$ é multiplo de $Q$. Por outro lado\n",
    "\n",
    "$$\n",
    "\\sum_{j=0}^{Q-1} \\left[\\cos\\left(\\frac{2\\pi n x_j}{L_0}\\right)\\right]^2 = \\frac{Q}{2} \\qquad\n",
    "\\sum_{j=0}^{Q-1} \\left[\\sin\\left(\\frac{2\\pi n x_j}{L_0}\\right)\\right]^2 = \\frac{Q}{2}\n",
    "$$\n",
    "quando $n$ não é múltiplo de $Q/2$\n",
    "\n"
   ]
  },
  {
   "cell_type": "markdown",
   "metadata": {
    "slideshow": {
     "slide_type": "slide"
    }
   },
   "source": [
    "# Ortogonalidade discreta\n",
    "Lembrando que \n",
    "\\begin{align}\n",
    "    2\\cos\\theta\\cos\\phi &= \\cos(\\theta-\\phi) + \\cos(\\theta+\\phi)\\\\\n",
    "    2\\cos\\theta\\sin\\phi &= \\sin(\\theta+\\phi) - \\sin(\\theta-\\phi)\\\\\n",
    "\\end{align}\n",
    "\n",
    "Chega-se à relação de ortogonalidade desejada:\n",
    "$$\n",
    "\\sum_{i=0}^Q \\phi_n(x_i)\\cdot \\phi_k(x_i)=0 \\qquad k\\ne n,k+n \\text{ e } k-n \\text{ não são múltiplos de}\\: Q/2\n",
    "$$"
   ]
  },
  {
   "cell_type": "markdown",
   "metadata": {
    "slideshow": {
     "slide_type": "slide"
    }
   },
   "source": [
    "## Transformada de Fourier real discreta\n",
    "\n",
    "Com as relações de ortogonalidade, chega-se à seguinte relação para os coeficientes $a_n$ e $b_n$:\n",
    "\n",
    "\\begin{align}\n",
    "a_n &= \\frac{2}{Q}\\cdot\\sum_{j=0}^{Q-1} y_j\\cos\\left(\\frac{2\\pi n x_j}{L_0}\\right) \\qquad n=0, 1, \\ldots, N\\\\\n",
    "b_n &= \\frac{2}{Q}\\cdot\\sum_{j=0}^{Q-1} y_j\\sin\\left(\\frac{2\\pi n x_j}{L_0}\\right) \\qquad n=1, \\ldots, N\n",
    "\\end{align}\n"
   ]
  },
  {
   "cell_type": "markdown",
   "metadata": {
    "slideshow": {
     "slide_type": "slide"
    }
   },
   "source": [
    "## Outra abordagem para a transformada de Fourier real discreta\n",
    "\\begin{align}\n",
    "a_n &= \\frac{2}{L_0}\\int_{-L_0/2}^{L_0/2} y(x) \\cdot \\cos\\left(\\frac{2\\pi n x}{L_0}\\right)\\: dx \\\\\n",
    "b_m &= \\frac{2}{L_0}\\int_{-L_0/2}^{L_0} y(x) \\cdot \\sin\\left(\\frac{2\\pi m x}{L_0}\\right)\\: dx \\\\\n",
    "\\end{align}\n",
    "\n",
    "Aproximando as integrais:\n",
    "\\begin{align}\n",
    "a_n &= \\frac{2}{L_0}\\int_{-L_0/2}^{L_0/2} y(x) \\cdot \\cos\\left(\\frac{2\\pi n x}{L_0}\\right)\\: dx \\approx \\frac{2}{Q\\cdot \\Delta x} \\sum_{j=0}^{Q-1} y(x_j) \\cos\\left(\\frac{2\\pi n x_j}{L_0}\\right) \\cdot \\Delta x =\\\\\n",
    " & =  \\frac{2}{Q} \\sum_{j=0}^{Q-1} y_j \\cos\\left(\\frac{2\\pi n x_j}{L_0}\\right)\n",
    "\\end{align}\n",
    "\n",
    "Onde $\\Delta x = L_0 / Q$\n",
    "\n",
    "E assim obtemos o mesmo resultado que no slide anterior!"
   ]
  },
  {
   "cell_type": "markdown",
   "metadata": {
    "slideshow": {
     "slide_type": "slide"
    }
   },
   "source": [
    "## Exemplo: $y(x) = |x|, -1 \\le x \\le 1$ ($L_0 = 2$)\n"
   ]
  },
  {
   "cell_type": "code",
   "execution_count": null,
   "metadata": {},
   "outputs": [],
   "source": [
    "function fourierseries(x, L0, a0, a, b)\n",
    "    y = a0/2\n",
    "    N = length(a)\n",
    "    for i = 1:N\n",
    "        y += a[i] * cos(2π*i*x/L0)\n",
    "        y += b[i] * sin(2π*i*x/L0)\n",
    "    end\n",
    "    return y\n",
    "end\n"
   ]
  },
  {
   "cell_type": "code",
   "execution_count": null,
   "metadata": {},
   "outputs": [],
   "source": [
    "L0 = 2.0\n",
    "Q = 20\n",
    "N = 8\n",
    "\n",
    "x = range(-1.0, 1.0, length=Q+1)[1:Q]\n",
    "y = abs.(x)\n",
    "\n",
    "a0 = 2/Q * sum(y)\n",
    "a = 2/Q * [sum(y .* cos.(2π .* n .* x ./ L0)) for n = 1:N]\n",
    "b = 2/Q * [sum(y .* sin.(2π .* n .* x ./ L0)) for n = 1:N];"
   ]
  },
  {
   "cell_type": "code",
   "execution_count": null,
   "metadata": {
    "slideshow": {
     "slide_type": "slide"
    }
   },
   "outputs": [],
   "source": [
    "# y(x) = |x|, -1 \\le x \\le 1$ ($L_0 = 2$)\n",
    "xx = -1:0.005:1\n",
    "yy = abs.(xx)\n",
    "yy1 = fourierseries.(xx, L0, a0, Ref(a), Ref(b))\n",
    "plot(xx, yy)\n",
    "plot(xx, yy1);"
   ]
  },
  {
   "cell_type": "markdown",
   "metadata": {
    "slideshow": {
     "slide_type": "slide"
    }
   },
   "source": [
    "## Problemas digitais:\n",
    "\n",
    "O que nós temos: \n",
    "$$\n",
    "y_j, \\Delta x, \\quad\\longrightarrow\\quad x_{j+1}-x_j = \\Delta x =\\frac{L_0}{Q} \\qquad 0\\le j < Q\n",
    "$$\n",
    "não temos os valores de $x_n$ exatos. Então podemos assumir $x_j = j \\Delta x$:\n",
    "\\begin{align}\n",
    " a_n &= \\frac{2}{Q} \\sum_{j=0}^{Q-1} y_j \\cos\\left(\\frac{2\\pi n x_j}{L_0}\\right) = \n",
    " \\frac{2}{Q} \\sum_{j=0}^{Q-1} y_j \\cos\\left(\\frac{2\\pi n j \\Delta x}{Q\\cdot\\Delta x}\\right) = \n",
    " \\frac{2}{Q} \\sum_{j=0}^{Q-1} y_j \\cos\\left(\\frac{2\\pi n j}{Q}\\right) \\\\\n",
    " b_n &= \\frac{2}{Q} \\sum_{j=0}^{Q-1} y_j \\sin\\left(\\frac{2\\pi n x_j}{L_0}\\right) = \n",
    " \\frac{2}{Q} \\sum_{j=0}^{Q-1} y_j \\sin\\left(\\frac{2\\pi n j}{Q}\\right) \n",
    "\\end{align}\n"
   ]
  },
  {
   "cell_type": "markdown",
   "metadata": {
    "slideshow": {
     "slide_type": "slide"
    }
   },
   "source": [
    "# Forma complexa da série de Fourier\n",
    "\n",
    "$$\n",
    "c_n = \\left\\{ \\begin{matrix}\n",
    "\\frac{a_0}{2} & n = 0 \\\\\n",
    "\\frac{1}{2}\\left(a_n - i b_n\\right) & n > 0\\\\\n",
    "\\frac{1}{2}\\left(a_n + i b_n\\right) & n < 0\n",
    "\\end{matrix}\\right.\n",
    "$$\n",
    "$$\n",
    "f(x) = \\sum_{n=-N}^N c_n \\exp\\left(\\frac{2\\pi i n x}{L_0} \\right) \\qquad \n",
    "c_n = \\frac{1}{L_0}\\int_0^{L_0} f(x) \\exp\\left(-\\frac{2\\pi i n x}{L_0} \\right)\\:dx\n",
    "$$\n",
    "Se $f(x)$ for uma função real, para $n$ positivo:\n",
    "$$\n",
    "\\begin{matrix}\n",
    "c_n + c_{-n} = a_n\\\\\n",
    "c_n - c_{-n} = -i b_n\n",
    "\\end{matrix}\n",
    "\\longrightarrow\n",
    "c_n = c^*_{-n}\n",
    "$$"
   ]
  },
  {
   "cell_type": "markdown",
   "metadata": {
    "slideshow": {
     "slide_type": "slide"
    }
   },
   "source": [
    "## DFT - Transformada de Fourier discreta\n",
    "\n",
    "$$\n",
    "c_n = \\frac{1}{L_0}\\int_0^{L_0} f(x) \\exp\\left(-\\frac{2\\pi i\\cdot n x}{L_0} \\right)\\:dx \\approx \\frac{1}{\\Delta x \\cdot Q}\\sum_{j=0}^{Q-1} y_j \\exp\\left(-\\frac{2\\pi i \\cdot n j\\Delta x}{Q\\cdot \\Delta x} \\right)\\cdot\\Delta x\n",
    "$$\n",
    "\n",
    "Portanto, \n",
    "$$\n",
    "c_n = \\frac{1}{Q}\\sum_{j=0}^{Q-1} y_j \\exp\\left(-\\frac{2\\pi i\\cdot n j}{Q} \\right)\n",
    "$$\n"
   ]
  },
  {
   "cell_type": "markdown",
   "metadata": {
    "slideshow": {
     "slide_type": "slide"
    }
   },
   "source": [
    "# DFT - Discrete Fourier Transform\n",
    "\n",
    "$$\n",
    "c_n = X_n = \\frac{1}{N}\\sum_{k=0}^{N-1} x_k \\exp\\left(-\\frac{2\\pi n k}{N} \\right)\n",
    "$$\n",
    "\n",
    "Chamando \n",
    "$$\n",
    "w_k = w^k = \\exp\\left(-\\frac{2\\pi k}{N}\\right)\n",
    "$$\n",
    "Repare que isto pode ser escrito como uma multiplicação de matrizes:\n",
    "\n",
    "$$\n",
    "\\left(\\begin{matrix} X_0 \\\\ X_1 \\\\ \\vdots \\\\ X_{N-1}\\end{matrix} \\right)\n",
    "= \n",
    "\\left(\\begin{matrix} 1 & 1 & \\cdots & 1\\\\\n",
    "1 & w & \\cdots & w^{N-1} \\\\\n",
    "\\vdots & \\vdots & \\ddots &\\vdots \\\\\n",
    "1 & w^N & \\cdots & w^{(N-1)^2}\\\\\n",
    "\\end{matrix}\\right) \n",
    "\\cdot \n",
    "\\left(\\begin{matrix} x_0 \\\\ x_1 \\\\ \\vdots \\\\ x_{N-1}\\end{matrix} \\right) \n",
    "$$\n",
    "\n",
    "\n"
   ]
  },
  {
   "cell_type": "markdown",
   "metadata": {
    "slideshow": {
     "slide_type": "slide"
    }
   },
   "source": [
    "## FFT - Transformada Rápida de Fourier\n",
    "\n",
    "\n",
    "Um algorítmo rápido para\n",
    "$$\n",
    "\\sum_{j=0}^{Q-1} y_j \\exp\\left(-\\frac{2\\pi i\\cdot n j}{Q} \\right)\n",
    "$$\n",
    "\n",
    "Se $0\\le n\\le Q$, o custo computacional é $\\mathcal{O}(Q^2)$.\n",
    "\n",
    "FFT: custo cai para $\\mathcal{O}(Q\\cdot\\log Q)$\n",
    "\n",
    "Originalmente, só funcionava com $Q$ igual a potências de 2.\n"
   ]
  },
  {
   "cell_type": "code",
   "execution_count": null,
   "metadata": {
    "slideshow": {
     "slide_type": "slide"
    }
   },
   "outputs": [],
   "source": [
    "Q = [2, 3, 5, 10, 15, 20, 40, 60, 80, 100, 150, 200, 300, 500, 700, 1000, 2000, 5000, 10000,\n",
    "20000, 30000, 50000, 100000, 200000, 500000, 1000000]\n",
    "t1 = Q\n",
    "t2 = Q.^2\n",
    "tlog = Q .* log2.(Q);\n",
    "loglog(Q, t1, label=\"\\$\\\\mathcal{O}(Q)\\$\")\n",
    "plot(Q, t2, label=\"\\$\\\\mathcal{O}(Q^2)\\$\")\n",
    "plot(Q, tlog, label=\"\\$\\\\mathcal{O}(Q\\\\cdot\\\\log_2 Q)\\$\")\n",
    "legend()\n"
   ]
  },
  {
   "cell_type": "markdown",
   "metadata": {
    "slideshow": {
     "slide_type": "slide"
    }
   },
   "source": [
    "## FFTW - Fastest Fourier Transform of the West"
   ]
  },
  {
   "cell_type": "code",
   "execution_count": null,
   "metadata": {},
   "outputs": [],
   "source": [
    "## Pkg.add(\"FFTW\")\n",
    "using FFTW"
   ]
  },
  {
   "cell_type": "code",
   "execution_count": null,
   "metadata": {},
   "outputs": [],
   "source": [
    "L₀ = 1.0; Q = 4; freq=1\n",
    "x = range(0.0, L₀, length=Q+1)[1:Q]\n",
    "y = sin.(freq.*2π.*x); f = (0:Q-1) / L₀\n",
    "Y = 1/Q * fft(y)"
   ]
  },
  {
   "cell_type": "markdown",
   "metadata": {
    "slideshow": {
     "slide_type": "slide"
    }
   },
   "source": [
    "## Exemplos"
   ]
  },
  {
   "cell_type": "code",
   "execution_count": null,
   "metadata": {},
   "outputs": [],
   "source": [
    "L₀ = 1.0; Q = 16; freq=1\n",
    "x = range(0.0, L₀, length=Q+1)[1:Q]\n",
    "y = sin.(freq.*2π.*x); f = (0:Q-1) / L₀\n",
    "Y = 1/Q * fft(y)\n",
    "plot(f, imag.(Y), \"ro\", label=\"Parte Imaginária\")\n",
    "plot(f, real.(Y), \"bx\", label=\"Parte Real\")\n",
    "xlabel(\"Frequência (Hz)\"); axvline(freq, linestyle=\":\")\n",
    "annotate(\"???\", (f[Q], imag(Y[Q])))\n",
    "legend()"
   ]
  },
  {
   "cell_type": "code",
   "execution_count": null,
   "metadata": {
    "slideshow": {
     "slide_type": "slide"
    }
   },
   "outputs": [],
   "source": [
    "L₀ = 1.0; Q = 8; freq=1\n",
    "x = range(0.0, L₀, length=Q+1)[1:Q]; f = (0:Q-1) / L₀\n",
    "\n",
    "y = cos.(freq.*2π.*x) + 2*sin.(2*freq.*2π.*x)\n",
    "\n",
    "Y = 1/Q * fft(y)\n",
    "plot(f, imag.(Y), \"ro\", label=\"Parte Imaginária\")\n",
    "plot(f, real.(Y), \"bx\", label=\"Parte Real\")\n",
    "xlabel(\"Frequência (Hz)\"); axvline(freq, linestyle=\":\")\n",
    "legend()"
   ]
  },
  {
   "cell_type": "code",
   "execution_count": null,
   "metadata": {},
   "outputs": [],
   "source": [
    "fftfreq(Q) * Q"
   ]
  },
  {
   "cell_type": "markdown",
   "metadata": {
    "slideshow": {
     "slide_type": "slide"
    }
   },
   "source": [
    "## A DFT é periódica (aliasing)!\n",
    "\n",
    "Sejam os pontos $y_j$, $0 \\le j < N$:\n",
    "\n",
    "$$\n",
    "Y_k = \\frac{1}{N}\\sum_{j=0}^{N-1} y_j\\exp\\left(-\\frac{2\\pi i j k}{N}\\right)\n",
    "$$\n",
    "$$\n",
    "Y_{N+k} = \\frac{1}{N}\\sum_{j=0}^{N-1} y_j\\exp\\left[-\\frac{2\\pi i j (k+N)}{N}\\right] = \n",
    "\\frac{1}{N}\\sum_{j=0}^{N-1} y_je^{-2\\pi i j}\\exp\\left(-\\frac{2\\pi i j k}{N}\\right)\n",
    "$$\n",
    "$$\n",
    "Y_{N+k} = \\frac{1}{N}\\sum_{j=0}^{N-1} y_j\\exp\\left(-\\frac{2\\pi i j k}{N}\\right) = Y_k\n",
    "$$\n"
   ]
  },
  {
   "cell_type": "markdown",
   "metadata": {
    "slideshow": {
     "slide_type": "slide"
    }
   },
   "source": [
    "## Exemplo de Aliasing"
   ]
  },
  {
   "cell_type": "code",
   "execution_count": null,
   "metadata": {},
   "outputs": [],
   "source": [
    "ncyc = 4; Q = 13; T₀ = 1; g(t) = sin(3*2π * t)\n",
    "t = range(0, ncyc, length=Q+1); x = g.(t)\n",
    "t0 = 0:0.01:ncyc; x0 = g.(t0)\n",
    "plot(t0, x0); plot(t, x, \"ro-\")\n",
    "\n"
   ]
  },
  {
   "cell_type": "code",
   "execution_count": null,
   "metadata": {},
   "outputs": [],
   "source": []
  },
  {
   "cell_type": "markdown",
   "metadata": {
    "slideshow": {
     "slide_type": "slide"
    }
   },
   "source": [
    "## O que acontece com frequências negativas (quando $y_j$ é real)?\n",
    "\n",
    "E se o $y_j$ forem reais?\n",
    "$$\n",
    "Y_{-k} = \\frac{1}{N}\\sum_{j=0}^{N-1} y_j\\exp\\left(\\frac{2\\pi i j k}{N}\\right) = Y^*_k\n",
    "$$\n",
    "\n",
    "Mas lembre-se que $Y$ também é periódico:\n",
    "\n",
    "$$\n",
    "Y_{-k} = Y_{N-k} = Y^*_k\n",
    "$$"
   ]
  },
  {
   "cell_type": "code",
   "execution_count": null,
   "metadata": {
    "slideshow": {
     "slide_type": "slide"
    }
   },
   "outputs": [],
   "source": [
    "L₀ = 1.0; Q = 8; freq=5\n",
    "x = range(0.0, L₀, length=Q+1)[1:Q]\n",
    "y = sin.(freq.*2π.*x); f = (0:Q-1) / L₀\n",
    "Y = 1/Q * fft(y)\n",
    "plot(f, imag.(Y), \"ro\", label=\"Parte Imaginária\")\n",
    "plot(f, real.(Y), \"bx\", label=\"Parte Real\")\n",
    "xlabel(\"Frequência (Hz)\"); axvline(freq, linestyle=\":\")\n",
    "annotate(\"???\", (f[Q], imag(Y[Q])))\n",
    "legend()"
   ]
  },
  {
   "cell_type": "markdown",
   "metadata": {
    "slideshow": {
     "slide_type": "slide"
    }
   },
   "source": [
    "## Qual o número de frequencias relevantes?\n",
    "\n",
    " * Q números reais\n",
    " * `fft` gera Q números complexos - 2 $\\times$ vezes mais informação\n",
    " * A frequência 0 sempre vai corresponder a um número real (a média)!\n",
    " \n",
    "### Q é um número ímpar\n",
    "  * $a_0$\n",
    "  * $(Q-1)/2\\:\\longrightarrow\\:a_n$\n",
    "  * $(Q-1)/2\\:\\longrightarrow\\:b_n$\n",
    "\n",
    "### N é um número par\n",
    " * $a_0$\n",
    " * $Q/2\\:\\longrightarrow\\:a_n$\n",
    " * $Q/2\\:\\longrightarrow\\:b_n$ mas $b_{1+Q/2} = 0$\n",
    "\n",
    "$$\n",
    "N_\\text{relevante} = \\frac{Q}{2} + 1\n",
    "$$\n"
   ]
  },
  {
   "cell_type": "code",
   "execution_count": null,
   "metadata": {
    "slideshow": {
     "slide_type": "slide"
    }
   },
   "outputs": [],
   "source": [
    "#nfftutil(N) = (N % 2 == 0) ? (div(N,2) + 1) : div(N+1,2)\n",
    "nfftutil(N) = div(N,2) + 1\n"
   ]
  },
  {
   "cell_type": "code",
   "execution_count": null,
   "metadata": {},
   "outputs": [],
   "source": [
    "div(3,2)\n",
    "3 % 2"
   ]
  },
  {
   "cell_type": "code",
   "execution_count": null,
   "metadata": {},
   "outputs": [],
   "source": [
    "nfftutil(3)"
   ]
  },
  {
   "cell_type": "code",
   "execution_count": null,
   "metadata": {},
   "outputs": [],
   "source": [
    "nfftutil(4)"
   ]
  },
  {
   "cell_type": "code",
   "execution_count": null,
   "metadata": {},
   "outputs": [],
   "source": [
    "nfftutil(5)"
   ]
  },
  {
   "cell_type": "code",
   "execution_count": null,
   "metadata": {},
   "outputs": [],
   "source": [
    "nfftutil(6)"
   ]
  },
  {
   "cell_type": "markdown",
   "metadata": {
    "slideshow": {
     "slide_type": "slide"
    }
   },
   "source": [
    "## `rfft`: especializado para números reais"
   ]
  },
  {
   "cell_type": "code",
   "execution_count": null,
   "metadata": {
    "slideshow": {
     "slide_type": "-"
    }
   },
   "outputs": [],
   "source": [
    "Q = 6\n",
    "x = rand(Q) .+ 10\n",
    "println(sum(x))\n",
    "X = rfft(x)\n"
   ]
  },
  {
   "cell_type": "code",
   "execution_count": null,
   "metadata": {},
   "outputs": [],
   "source": [
    "X = fft(x)"
   ]
  },
  {
   "cell_type": "markdown",
   "metadata": {
    "slideshow": {
     "slide_type": "slide"
    }
   },
   "source": [
    "## Interpolação trigonométrica"
   ]
  },
  {
   "cell_type": "code",
   "execution_count": null,
   "metadata": {},
   "outputs": [],
   "source": [
    "struct TrigInterp\n",
    "    Q::Int\n",
    "    dx::Float64\n",
    "    c::Vector{ComplexF64}\n",
    "end\n",
    "TrigInterp(x::Vector{Float64}, dx) = TrigInterp(length(x), dx, rfft(x))\n",
    "\n",
    "function interp(f::TrigInterp, x)\n",
    "    y = real(f.c[1])/2\n",
    "    Q = f.Q\n",
    "    P = Q * f.dx\n",
    "    N = length(f.c)\n",
    "    for k in 1:N-1\n",
    "        c = f.c[k+1]\n",
    "        y += real(c) * cos(2π*k*x/P) - imag(c) * sin(2π*k*x)\n",
    "    end\n",
    "    \n",
    "    return 2y/Q\n",
    "end\n",
    "\n",
    "(f::TrigInterp)(x) = interp(f, x)"
   ]
  },
  {
   "cell_type": "markdown",
   "metadata": {
    "slideshow": {
     "slide_type": "slide"
    }
   },
   "source": [
    "## Exemplo"
   ]
  },
  {
   "cell_type": "code",
   "execution_count": null,
   "metadata": {},
   "outputs": [],
   "source": [
    "Q = 7; L₀ = 1.0; \n",
    "x0 = range(0, L₀, length=Q+1)[1:Q]\n",
    "f = x->(2*(sin(2π*x)) + 1.0 + cos(2π*x))\n",
    "y0 = f.(x0)\n",
    "Y = TrigInterp(y0, L₀/Q)\n",
    "x = 0:0.01:L₀; y = Y.(x);\n",
    "plot(x, f.(x), label=\"Exato\")\n",
    "plot(x, y, \"k:\", label=\"Interpolado\")\n",
    "plot(x0, y0, \"ro\", label=\"Pontos\")\n",
    "legend()\n",
    "\n",
    "\n"
   ]
  },
  {
   "cell_type": "markdown",
   "metadata": {
    "slideshow": {
     "slide_type": "slide"
    }
   },
   "source": [
    "## E usando fft (não rfft)?"
   ]
  },
  {
   "cell_type": "code",
   "execution_count": null,
   "metadata": {},
   "outputs": [],
   "source": [
    "struct TrigInterp0\n",
    "    Q::Int\n",
    "    dx::Float64\n",
    "    c::Vector{ComplexF64}\n",
    "end\n",
    "TrigInterp0(x::Vector{Float64}, dx) = TrigInterp0(length(x), dx, fft(x))\n",
    "\n",
    "function interp(f::TrigInterp0, x)\n",
    "    y = real(f.c[1])/2\n",
    "    Q = f.Q\n",
    "    P = Q * f.dx\n",
    "    N = nfftutil(length(f.c))\n",
    "    for k in 1:N-1\n",
    "        c = f.c[k+1]\n",
    "        y += real(c) * cos(2π*k*x/P) - imag(c) * sin(2π*k*x)\n",
    "    end\n",
    "    \n",
    "    return 2y/Q\n",
    "end\n",
    "\n",
    "(f::TrigInterp0)(x) = interp(f, x)"
   ]
  },
  {
   "cell_type": "code",
   "execution_count": null,
   "metadata": {
    "slideshow": {
     "slide_type": "slide"
    }
   },
   "outputs": [],
   "source": [
    "Y = TrigInterp0(y0, L₀/Q)\n",
    "x = 0:0.01:L₀; y = Y.(x);\n",
    "plot(x, f.(x), label=\"Exato\")\n",
    "plot(x, y, \"k:\", label=\"Interpolado\")\n",
    "plot(x0, y0, \"ro\", label=\"Pontos\")\n",
    "legend()\n"
   ]
  },
  {
   "cell_type": "markdown",
   "metadata": {
    "slideshow": {
     "slide_type": "slide"
    }
   },
   "source": [
    "## Transformação inversa"
   ]
  },
  {
   "cell_type": "code",
   "execution_count": null,
   "metadata": {},
   "outputs": [],
   "source": [
    "x = rand(4)\n",
    "X = fft(x)\n",
    "x1 = ifft(X)\n",
    "x1 .- x"
   ]
  },
  {
   "cell_type": "code",
   "execution_count": null,
   "metadata": {},
   "outputs": [],
   "source": [
    "Y = rfft(x)\n",
    "x2 = irfft(Y, 4)\n",
    "x2 .- x"
   ]
  },
  {
   "cell_type": "markdown",
   "metadata": {
    "slideshow": {
     "slide_type": "slide"
    }
   },
   "source": [
    "## Resample"
   ]
  },
  {
   "cell_type": "code",
   "execution_count": null,
   "metadata": {
    "slideshow": {
     "slide_type": "-"
    }
   },
   "outputs": [],
   "source": [
    "\n",
    "function myresample(y, Qout)\n",
    "    Qin = length(y)\n",
    "    Nin = Qin ÷ 2 + 1\n",
    "    Nout = Qout ÷ 2 + 1\n",
    "    \n",
    "    Yin = rfft(y)\n",
    "    Yout = zeros(ComplexF64, Nout)\n",
    "    nmin = min(Nout, Nin)\n",
    "    for i in 1:nmin\n",
    "        Yout[i] = Qout/Qin * Yin[i]\n",
    "    end\n",
    "    \n",
    "    \n",
    "    if Qout > Qin  # interpolação\n",
    "        if iseven(Qin)\n",
    "            Yout[Nin] /= 2\n",
    "        end\n",
    "    elseif Qout < Qin\n",
    "        if iseven(Qin)\n",
    "            Yout[Nout] = 2*real(Yout[Nout])\n",
    "        end\n",
    "    end\n",
    "    \n",
    "    return irfft(Yout, Qout)\n",
    "end\n",
    "   "
   ]
  },
  {
   "cell_type": "markdown",
   "metadata": {
    "slideshow": {
     "slide_type": "slide"
    }
   },
   "source": [
    "## Usando `myresample`"
   ]
  },
  {
   "cell_type": "code",
   "execution_count": null,
   "metadata": {},
   "outputs": [],
   "source": [
    "Q = 8; L₀ = 1.0; \n",
    "x0 = range(0, L₀, length=Q+1)[1:Q]; x = 0:0.01:L₀\n",
    "f = x->(2*sin(2π*x) + 1.0 + cos(2π*x))\n",
    "y0 = f.(x0)\n",
    "Qout = 10\n",
    "y1 = myresample(y0, Qout);\n",
    "x1 = range(0, L₀, length=Qout+1)[1:Qout]\n",
    "plot(x, f.(x), label=\"Exato\")\n",
    "plot(x1, y1, \"k:\", label=\"Interpolado\")\n",
    "plot(x0, y0, \"ro\", label=\"Pontos\")\n",
    "legend()\n"
   ]
  },
  {
   "cell_type": "markdown",
   "metadata": {
    "slideshow": {
     "slide_type": "slide"
    }
   },
   "source": [
    "## Outros formatos\n"
   ]
  },
  {
   "cell_type": "code",
   "execution_count": null,
   "metadata": {},
   "outputs": [],
   "source": [
    "x = rand(4)\n",
    "X1 = fft(x)\n",
    "X2 = copy(X)\n",
    "fft!(X2)"
   ]
  },
  {
   "cell_type": "markdown",
   "metadata": {},
   "source": [
    "O mesmo para `ifft`, `rfft`, etc!"
   ]
  },
  {
   "cell_type": "markdown",
   "metadata": {
    "slideshow": {
     "slide_type": "slide"
    }
   },
   "source": [
    "## Lembra que a DFT era uma multiplicação de matrizes?"
   ]
  },
  {
   "cell_type": "code",
   "execution_count": null,
   "metadata": {},
   "outputs": [],
   "source": [
    "x = rand(4)\n",
    "P = plan_fft(x, flags=FFTW.ESTIMATE)\n",
    "\n",
    "X1 = P * x"
   ]
  },
  {
   "cell_type": "code",
   "execution_count": null,
   "metadata": {},
   "outputs": [],
   "source": [
    "fft(x)"
   ]
  },
  {
   "cell_type": "markdown",
   "metadata": {
    "slideshow": {
     "slide_type": "slide"
    }
   },
   "source": [
    "## Transformada inversa"
   ]
  },
  {
   "cell_type": "code",
   "execution_count": null,
   "metadata": {},
   "outputs": [],
   "source": [
    "P \\ X1"
   ]
  },
  {
   "cell_type": "code",
   "execution_count": null,
   "metadata": {},
   "outputs": [],
   "source": [
    "ifft(X1)"
   ]
  },
  {
   "cell_type": "markdown",
   "metadata": {
    "slideshow": {
     "slide_type": "slide"
    }
   },
   "source": [
    "## Outros tipos de transformadas\n",
    "\n",
    " * Cosseno: `dct`, `idct`\n",
    " * Mais genérica: `r2r` (ver <www.fftw.org>)\n",
    " * Tudo o que foi feito até aqui, vale para problemas multidimensionais!"
   ]
  },
  {
   "cell_type": "markdown",
   "metadata": {
    "slideshow": {
     "slide_type": "slide"
    }
   },
   "source": [
    "## Conclusões\n",
    "\n",
    "Algumas questões\n",
    " \n",
    " * Será que esta série converge para a função original?\n",
    " * Em que condições esta série converge?\n",
    " * Quão rápido se dá esta convergência?\n",
    " * O que acontece quando $N\\longrightarrow\\infty$?\n",
    " \n",
    "Respostas genéricas\n",
    " * A série converge para condições bem amplas, inclusive se houver discontinuidades na função.\n",
    " * Esta convergência se dá para $N\\longrightarrow\\infty$. Para valor de $N$ finito, as coisas são mais complicadas (como veremos adiante).\n",
    " * Para funções periódicas e suaves, não existe aproximação melhor!!!"
   ]
  },
  {
   "cell_type": "markdown",
   "metadata": {
    "slideshow": {
     "slide_type": "slide"
    }
   },
   "source": [
    "# Problemas\n"
   ]
  },
  {
   "cell_type": "markdown",
   "metadata": {
    "slideshow": {
     "slide_type": "slide"
    }
   },
   "source": [
    "## Problema 1\n",
    "\n",
    "Seja a seguinte função definida no domínio $-1 < x \\le 1$:\n",
    "\n",
    "$$\n",
    "y(x) = \\left\\{\\begin{matrix} -1 & x < 0 \\\\ 1 & x > 0\\\\ 0 & x=0\\end{matrix}\\right.\n",
    "$$\n",
    "\n",
    " 1. Ache os coeficientes $a_n$ e $b_n$ da série de Fourier\n",
    " 2. Plote a série de Fourier para diferentes números de termos da série de Fourier. Percebe algo estranho?\n",
    " 3. Qual a relação desta função com a função $y = |x|$ que estudamos anteriormente?\n",
    " 4. Escolha diferentes números de pontos e interpole esta função nestes pontos"
   ]
  },
  {
   "cell_type": "markdown",
   "metadata": {
    "slideshow": {
     "slide_type": "slide"
    }
   },
   "source": [
    "## Problema 2\n",
    "\n",
    "Verifique a ortogonalidade discreta da base trigonométrica, ou seja, \n",
    "\n",
    "$$\n",
    "\\sum_{i=0}^Q \\phi_n(x_i)\\cdot \\phi_k(x_i)=0 \\qquad k\\ne n, k+n \\text{ e } k-n \\text{ não são múltiplos de}\\: Q/2\n",
    "$$\n",
    "\n",
    "para \n",
    "\n",
    "\\begin{align}\n",
    "\\phi_0(x) &= \\frac{1}{2}\\\\\n",
    "\\phi_n(x) &= \\cos\\left(\\frac{2\\pi n x}{L_0}\\right) \\qquad 0\\le n \\le N \\\\\n",
    "\\phi_{n+N}(x) &= \\sin\\left(\\frac{2\\pi n x}{L_0}\\right) \\qquad 1\\le n \\le N \n",
    "\\end{align}\n",
    "\n"
   ]
  },
  {
   "cell_type": "markdown",
   "metadata": {
    "slideshow": {
     "slide_type": "slide"
    }
   },
   "source": [
    "## Problema 3\n",
    "\n",
    "Nos exemplos iniciais usando a DFT, ao se escolher os pontos, foi utilizado o seguinte código:\n",
    "```julia\n",
    "L₀ = 1.0; Q = 16; freq=1\n",
    "x = range(0.0, L₀, length=Q+1)[1:Q]\n",
    "```\n",
    "O que acontece se utilzarmos a expressão mais simples a seguir?\n",
    "```julia\n",
    "x = range(0.0, L₀, length=Q)\n",
    "```\n",
    "O que está acontecendo? Você consegue explicar?"
   ]
  },
  {
   "cell_type": "code",
   "execution_count": null,
   "metadata": {},
   "outputs": [],
   "source": [
    "L₀ = 1.0; Q = 16; freq=1; \n",
    "x = range(0.0, L₀, length=Q)\n",
    "y = sin.(freq.*2π.*x); f = (0:Q-1) / L₀\n",
    "Y = 1/Q * fft(y);\n",
    "#plot(f, real.(Y), \"xb\")\n",
    "#plot(f, imag.(Y), \"ro\")"
   ]
  },
  {
   "cell_type": "markdown",
   "metadata": {
    "slideshow": {
     "slide_type": "slide"
    }
   },
   "source": [
    "## Problema 4\n",
    "\n",
    "Implemente a DFT usando a definição. Verifique como aumenta o custo computacional quando o número de pontos aumenta. \n"
   ]
  },
  {
   "cell_type": "markdown",
   "metadata": {
    "slideshow": {
     "slide_type": "slide"
    }
   },
   "source": [
    "## Problema 5\n",
    "\n",
    "(Desafio) procure na net ou em algum livro como implementar a FFT. Tente!"
   ]
  },
  {
   "cell_type": "markdown",
   "metadata": {},
   "source": [
    "## Problema 6\n",
    "\n",
    "A transformada de Fourier está diretamente relacionada com a série de Fourier e é dada por:\n",
    "\n",
    "$$\n",
    "X(\\omega) = \\frac{1}{2\\pi} \\int_{-\\infty}^\\infty x(t)e^{-i\\omega t}\\: dt\n",
    "$$\n",
    "\n",
    " 1. Calcula a transformada de Fourier para a função \n",
    "  $$\n",
    "  x(t) = \\left\\{\\begin{matrix} 1 & -1 < x < 1 \\\\ 0 & x \\ge 1\\end{matrix}\\right.\n",
    "  $$\n",
    " 2. Discretize a função e use a FFT para calcular a transformada.\n",
    " 3. Tente verificar o que acontece se você adiciona zeros à esquerda e à direita da função discretizada.\n"
   ]
  },
  {
   "cell_type": "markdown",
   "metadata": {},
   "source": [
    "## Problema 7\n",
    "\n",
    "Faça alguns exemplos do pacote `ApproxFun` (<https://github.com/JuliaApproximation/ApproxFun.jl>)\n"
   ]
  },
  {
   "cell_type": "code",
   "execution_count": null,
   "metadata": {},
   "outputs": [],
   "source": []
  }
 ],
 "metadata": {
  "@webio": {
   "lastCommId": null,
   "lastKernelId": null
  },
  "celltoolbar": "Slideshow",
  "kernelspec": {
   "display_name": "Julia 1.4.1",
   "language": "julia",
   "name": "julia-1.4"
  },
  "language_info": {
   "file_extension": ".jl",
   "mimetype": "application/julia",
   "name": "julia",
   "version": "1.4.1"
  }
 },
 "nbformat": 4,
 "nbformat_minor": 4
}
