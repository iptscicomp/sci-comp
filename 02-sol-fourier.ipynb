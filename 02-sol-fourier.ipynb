{
 "cells": [
  {
   "cell_type": "markdown",
   "metadata": {
    "slideshow": {
     "slide_type": "slide"
    }
   },
   "source": [
    "# Solução dos problemas propostos na aula 02 - Interpolação trigonométrica\n"
   ]
  },
  {
   "cell_type": "code",
   "execution_count": null,
   "metadata": {},
   "outputs": [],
   "source": [
    "using PyPlot\n",
    "using FFTW"
   ]
  },
  {
   "cell_type": "code",
   "execution_count": null,
   "metadata": {
    "slideshow": {
     "slide_type": "slide"
    }
   },
   "outputs": [],
   "source": [
    "#nfftutil(N) = (N % 2 == 0) ? (div(N,2) + 1) : div(N+1,2)\n",
    "nfftutil(N) = div(N,2) + 1\n"
   ]
  },
  {
   "cell_type": "markdown",
   "metadata": {},
   "source": [
    "<!-- TEASER_END -->"
   ]
  },
  {
   "cell_type": "markdown",
   "metadata": {
    "slideshow": {
     "slide_type": "slide"
    }
   },
   "source": [
    "# Problemas\n"
   ]
  },
  {
   "cell_type": "markdown",
   "metadata": {
    "slideshow": {
     "slide_type": "slide"
    }
   },
   "source": [
    "## Problema 1\n",
    "\n",
    "Seja a seguinte função definida no domínio $-1 < x \\le 1$:\n",
    "\n",
    "$$\n",
    "y(x) = \\left\\{\\begin{matrix} -1 & x < 0 \\\\ 1 & x > 0\\\\ 0 & x=0\\end{matrix}\\right.\n",
    "$$\n",
    "\n",
    " 1. Ache os coeficientes $a_n$ e $b_n$ da série de Fourier\n",
    " 2. Plote a série de Fourier para diferentes números de termos da série de Fourier. Percebe algo estranho?\n",
    " 3. Qual a relação desta função com a função $y = |x|$ que estudamos anteriormente?\n",
    " 4. Escolha diferentes números de pontos e interpole esta função nestes pontos"
   ]
  },
  {
   "cell_type": "markdown",
   "metadata": {
    "slideshow": {
     "slide_type": "slide"
    }
   },
   "source": [
    "### Solução\n",
    "\n",
    "#### Ache os coeficientes $𝑎_n$ e $𝑏_𝑛$ da série de Fourier\n",
    "\n",
    "Esta é uma função ímpar, portanto os coeficientes $a_n$ são nulos!\n",
    "\n",
    "$$\n",
    "b_n = \\frac{2}{L_0}\\int_{-L_0/2}^{L_0/2} y(x) \\cdot \\sin\\left(\\frac{2\\pi n x}{L_0}\\right)\\:dx = 2\\int_0^1 \\sin\\left(\\pi n x\\right)\\:dx = \\frac{2}{n\\pi}\\left(1 - \\cos n\\pi\\right) = \\frac{2}{n\\pi}\\left[1 - (-1)^n\\right]\n",
    "$$\n"
   ]
  },
  {
   "cell_type": "code",
   "execution_count": null,
   "metadata": {},
   "outputs": [],
   "source": [
    "x = range(-1.0, 1.0, length=201);\n",
    "y0 = 1.0 .* sign.(x)\n",
    "bn = [2/(π*n) * (1.0 - cos(π*n)) for n in 1:500];"
   ]
  },
  {
   "cell_type": "code",
   "execution_count": null,
   "metadata": {},
   "outputs": [],
   "source": [
    "sinseries(x, b, N, L0) = sum(b[n]*sin(2π*n*x/L0) for n in 1:N);"
   ]
  },
  {
   "cell_type": "markdown",
   "metadata": {
    "slideshow": {
     "slide_type": "slide"
    }
   },
   "source": [
    "#### Plote a série de Fourier para diferentes números de termos da série de Fourier"
   ]
  },
  {
   "cell_type": "code",
   "execution_count": null,
   "metadata": {
    "slideshow": {
     "slide_type": "-"
    }
   },
   "outputs": [],
   "source": [
    "plot(x, y0, \"k:\")\n",
    "for n in 1:2:15\n",
    "    plot(x, sinseries.(x, Ref(bn), n, 2.0), label=\"n = $n\")\n",
    "end\n",
    "legend()"
   ]
  },
  {
   "cell_type": "code",
   "execution_count": null,
   "metadata": {
    "slideshow": {
     "slide_type": "slide"
    }
   },
   "outputs": [],
   "source": [
    "x1 = range(-1, 1, length=1001)\n",
    "plot(x1, sinseries.(x1, Ref(bn), 100, 2.0))"
   ]
  },
  {
   "cell_type": "markdown",
   "metadata": {
    "slideshow": {
     "slide_type": "slide"
    }
   },
   "source": [
    "#### Qual a relação desta função com a função $y = |x|$ que estudamos anteriormente?\n",
    "\n",
    "Esta função é a derivada da função $y = |x|$!\n",
    "\n",
    "E a série de $dy/dx$ é formada pelas derivadas da série original!\n",
    "\n",
    "Existem condições específicas onde se pode derivar a série termo a termo. Mas se as funções forem suaves, derive e integre a vontade! Funciona até para algumas descontinuidades.\n",
    "\n",
    "\n"
   ]
  },
  {
   "cell_type": "markdown",
   "metadata": {
    "slideshow": {
     "slide_type": "slide"
    }
   },
   "source": [
    "#### Escolha diferentes números de pontos e interpole esta função nestes pontos\n",
    "\n",
    "\n",
    "Lembram da função `myresample`? Do jeito que foi implementada originalmente, só funcionava para N ímpar! Vamos primeiro entender isso."
   ]
  },
  {
   "cell_type": "code",
   "execution_count": null,
   "metadata": {},
   "outputs": [],
   "source": [
    "qpoints(Q, a=-1.0, b=1.0) = range(a, b, length=Q+1)[1:Q]\n"
   ]
  },
  {
   "cell_type": "code",
   "execution_count": null,
   "metadata": {
    "slideshow": {
     "slide_type": "slide"
    }
   },
   "outputs": [],
   "source": [
    "Q = 9\n",
    "x = qpoints(Q, 0.0, 1.0)\n",
    "dx  = x[2]-x[1]\n",
    "f = \n",
    "y = cos.(2π*f.*x) .+ 2*sin.(2π*f.*x);\n",
    "Y = fft(y)./Q\n",
    "freq = fftfreq(Q, 1/dx)\n",
    "\n",
    "hcat(freq, round.(real.(Y), digits=2), round.(imag.(Y), digits=2))\n",
    "\n"
   ]
  },
  {
   "cell_type": "code",
   "execution_count": null,
   "metadata": {
    "slideshow": {
     "slide_type": "slide"
    }
   },
   "outputs": [],
   "source": [
    "Q = 8\n",
    "x = qpoints(Q, 0.0, 1.0)\n",
    "dx  = x[2]-x[1]\n",
    "f = 4\n",
    "y = cos.(2π*f.*x) .+ 2*sin.(2π*f.*x);\n",
    "Y = rfft(y)./Q\n",
    "freq = rfftfreq(Q, 1/dx)\n",
    "\n",
    "hcat(freq, round.(real.(Y), digits=2), round.(imag.(Y), digits=2))\n"
   ]
  },
  {
   "cell_type": "code",
   "execution_count": null,
   "metadata": {
    "slideshow": {
     "slide_type": "slide"
    }
   },
   "outputs": [],
   "source": [
    "## Resample\n",
    "\n",
    "function myresample(y, Qout)\n",
    "    Qin = length(y)\n",
    "    Nin = Qin ÷ 2 + 1 \n",
    "    Nout = Qout ÷ 2 + 1\n",
    "    \n",
    "    Yin = rfft(y)\n",
    "    Yout = zeros(ComplexF64, Nout)\n",
    "    nmin = min(Nout, Nin)\n",
    "    for i in 1:nmin\n",
    "        Yout[i] = Qout/Qin * Yin[i]\n",
    "    end\n",
    "    \n",
    "    \n",
    "    if Qout > Qin  # interpolação\n",
    "        if iseven(Qin)\n",
    "            Yout[Nin] /= 2\n",
    "        end\n",
    "    elseif Qout < Qin\n",
    "        if iseven(Qin)\n",
    "            Yout[Nout] = 2*real(Yout[Nout])\n",
    "        end\n",
    "    end\n",
    "    \n",
    "    return irfft(Yout, Qout)\n",
    "end"
   ]
  },
  {
   "cell_type": "code",
   "execution_count": null,
   "metadata": {
    "slideshow": {
     "slide_type": "slide"
    }
   },
   "outputs": [],
   "source": [
    "Q0 = 32\n",
    "x0 = range(-1, 1, length=Q0+1)[1:Q0]\n",
    "y0 = 1.0 * sign.(x0);"
   ]
  },
  {
   "cell_type": "code",
   "execution_count": null,
   "metadata": {},
   "outputs": [],
   "source": [
    "Q1 =  256\n",
    "x1 = qpoints(Q1, -1, 1)\n",
    "y1 = myresample(y0, Q1)\n",
    "plot(x1, y1)\n",
    "plot(x0, y0, \"r.\")\n"
   ]
  },
  {
   "cell_type": "markdown",
   "metadata": {
    "slideshow": {
     "slide_type": "slide"
    }
   },
   "source": [
    "## Problema 2\n",
    "\n",
    "Verifique a ortogonalidade discreta da base trigonométrica, ou seja, \n",
    "\n",
    "$$\n",
    "\\sum_{i=1}^Q \\phi_n(x_i)\\cdot \\phi_k(x_i)=0 \\qquad k\\ne n, k+n \\text{ e } k-n \\text{ não são múltiplos de}\\: Q/2\n",
    "$$\n",
    "\n",
    "para \n",
    "\n",
    "\\begin{align}\n",
    "\\phi_0(x) &= \\frac{1}{2}\\\\\n",
    "\\phi_n(x) &= \\cos\\left(\\frac{2\\pi n x}{L_0}\\right) \\qquad 0\\le n \\le N \\\\\n",
    "\\phi_{n+N}(x) &= \\sin\\left(\\frac{2\\pi n x}{L_0}\\right) \\qquad 1\\le n \\le N \n",
    "\\end{align}\n",
    "\n"
   ]
  },
  {
   "cell_type": "code",
   "execution_count": null,
   "metadata": {
    "slideshow": {
     "slide_type": "slide"
    }
   },
   "outputs": [],
   "source": [
    "Q = 10\n",
    "x = qpoints(Q)"
   ]
  },
  {
   "cell_type": "code",
   "execution_count": null,
   "metadata": {},
   "outputs": [],
   "source": [
    "L0 = 2.0\n",
    "n = 3; k = 13\n",
    "sum(sin.((2π*n/L0)*x) .* sin.((2π*k/L0)*x))"
   ]
  },
  {
   "cell_type": "markdown",
   "metadata": {
    "slideshow": {
     "slide_type": "slide"
    }
   },
   "source": [
    "## Problema 3\n",
    "\n",
    "Nos exemplos iniciais usando a DFT, ao se escolher os pontos, foi utilizado o seguinte código:\n",
    "```julia\n",
    "L₀ = 1.0; Q = 16; freq=1\n",
    "x = range(0.0, L₀, length=Q+1)[1:Q]\n",
    "```\n",
    "O que acontece se utilzarmos a expressão mais simples a seguir?\n",
    "```julia\n",
    "x = range(0.0, L₀, length=Q)\n",
    "```\n",
    "O que está acontecendo? Você consegue explicar?"
   ]
  },
  {
   "cell_type": "code",
   "execution_count": null,
   "metadata": {
    "slideshow": {
     "slide_type": "slide"
    }
   },
   "outputs": [],
   "source": [
    "L₀ = 1.0; Q = 16; freq=1; \n",
    "x = range(0.0, L₀, length=Q+1)[1:Q]\n",
    "y = sin.(freq.*2π.*x); f = (0:Q-1) / L₀\n",
    "Y = 1/Q * fft(y);\n",
    "plot(f, imag.(Y), \"ro\")\n",
    "plot(f, real.(Y), \"xb\")"
   ]
  },
  {
   "cell_type": "code",
   "execution_count": null,
   "metadata": {
    "slideshow": {
     "slide_type": "slide"
    }
   },
   "outputs": [],
   "source": [
    "L₀ = 1.0; Q = 16; freq=1; \n",
    "x = range(0.0, L₀, length=Q)\n",
    "y = sin.(freq.*2π.*x); f = (0:Q-1) / L₀\n",
    "Y = 1/Q * fft(y);\n",
    "plot(f, imag.(Y), \"ro\")\n",
    "plot(f, real.(Y), \"xb\")\n"
   ]
  },
  {
   "cell_type": "markdown",
   "metadata": {
    "slideshow": {
     "slide_type": "slide"
    }
   },
   "source": [
    "**O que está acontecendo?**\n",
    "\n",
    "O que a gente quer?  Interpolar a função $\\sin2\\pi x$ para $0\\le x\\le 1$ \n",
    "\n",
    "Visualmente o que ocorre pode ser visto no gráfico a seguir:\n"
   ]
  },
  {
   "cell_type": "code",
   "execution_count": null,
   "metadata": {
    "slideshow": {
     "slide_type": "slide"
    }
   },
   "outputs": [],
   "source": [
    "Q = 4; x1 = range(0, 1, length=Q+1)[1:Q]; dx1 = x1[2]-x1[1];\n",
    "x2 = range(0, 1, length=Q); dx2 = x2[2]-x2[1]\n",
    "subplot(121); plot(x1, zeros(Q), \"r.\")\n",
    "for i in 1:Q\n",
    "    plot([x1[i], x1[i]+dx1], [0, 0], \"k-\")\n",
    "end\n",
    "subplot(122); plot(x2, zeros(Q), \"r.\")\n",
    "for i in 1:Q\n",
    "    plot([x2[i], x2[i]+dx2], [0, 0], \"k-\")\n",
    "end"
   ]
  },
  {
   "cell_type": "markdown",
   "metadata": {
    "slideshow": {
     "slide_type": "slide"
    }
   },
   "source": [
    "Temos uma inconsistência!\n",
    "\n",
    "Como só passamos o número de pontos, na verdade estamos aproximando a função mais um trecho reto:"
   ]
  },
  {
   "cell_type": "code",
   "execution_count": null,
   "metadata": {},
   "outputs": [],
   "source": [
    "Q = 4; x1 = range(0, 1, length=Q+1)[1:Q]; dx1 = x1[2]-x1[1]\n",
    "dx1 = 1.0 / Q; xx1 = 0:0.01:1; yy1 = sin.(2π.*xx1)\n",
    "xx = [xx1; 1.0 + dx1]; yy = [yy1; 0.0]\n",
    "plot(xx, yy)"
   ]
  },
  {
   "cell_type": "markdown",
   "metadata": {
    "slideshow": {
     "slide_type": "slide"
    }
   },
   "source": [
    "## Problema 4\n",
    "\n",
    "Implemente a DFT usando a definição. Verifique como aumenta o custo computacional quando o número de pontos aumenta. \n",
    "\n",
    "Como foi mostrado, esta operação é uma multiplicação de matriz por vetor. Verifique se invertendo a ordem dos loops afeta o desempenho. "
   ]
  },
  {
   "cell_type": "markdown",
   "metadata": {
    "slideshow": {
     "slide_type": "slide"
    }
   },
   "source": [
    "### DFT - Discrete Fourier Transform (transformada de Fourier discreta)\n",
    "\n",
    "$$\n",
    "c_n = X_n = \\frac{1}{N}\\sum_{k=0}^{N-1} x_k \\exp\\left(-\\frac{2\\pi i n k}{N} \\right)\n",
    "$$\n",
    "\n",
    "Chamando \n",
    "$$\n",
    "w_k = w^k = \\exp\\left(-\\frac{2\\pi i k}{N}\\right)\n",
    "$$\n",
    "Repare que isto pode ser escrito como uma multiplicação de matrizes:\n",
    "\n",
    "$$\n",
    "\\left(\\begin{matrix} X_0 \\\\ X_1 \\\\ \\vdots \\\\ X_{N-1}\\end{matrix} \\right)\n",
    "= \n",
    "\\left(\\begin{matrix} 1 & 1 & \\cdots & 1\\\\\n",
    "1 & w & \\cdots & w^{N-1} \\\\\n",
    "\\vdots & \\vdots & \\ddots &\\vdots \\\\\n",
    "1 & w^N & \\cdots & w^{(N-1)^2}\\\\\n",
    "\\end{matrix}\\right) \n",
    "\\cdot \n",
    "\\left(\\begin{matrix} x_0 \\\\ x_1 \\\\ \\vdots \\\\ x_{N-1}\\end{matrix} \\right) \n",
    "$$\n",
    "\n",
    "\n"
   ]
  },
  {
   "cell_type": "code",
   "execution_count": null,
   "metadata": {
    "slideshow": {
     "slide_type": "slide"
    }
   },
   "outputs": [],
   "source": [
    "function mydft(x)\n",
    "    N = length(x)\n",
    "    X = zeros(ComplexF64,N)\n",
    "    w = exp(-2π*im/N)\n",
    "\n",
    "    for i in 1:N\n",
    "        for k in 1:N\n",
    "            X[i] += x[k] * w^((i-1)*(k-1))\n",
    "        end\n",
    "    end\n",
    "    \n",
    "    return X\n",
    "end"
   ]
  },
  {
   "cell_type": "code",
   "execution_count": null,
   "metadata": {},
   "outputs": [],
   "source": [
    "x = rand(10)\n",
    "X1 = mydft(x)\n",
    "X2 = fft(x)\n",
    "maximum(abs, X1 - X2)"
   ]
  },
  {
   "cell_type": "code",
   "execution_count": null,
   "metadata": {
    "slideshow": {
     "slide_type": "slide"
    }
   },
   "outputs": [],
   "source": [
    "function mydft!(x, X)\n",
    "    N = length(x)\n",
    "    w = exp(-2π*im/N)\n",
    "    for i in 1:N\n",
    "        Xi = 0.0 + 0.0im\n",
    "        wi = w^(i-1)\n",
    "        wk = 1.0 + 0.0im\n",
    "        for k in 1:N\n",
    "            Xi += x[k] * wk\n",
    "            wk *= wi\n",
    "        end\n",
    "        X[i] = Xi\n",
    "    end\n",
    "    return X\n",
    "end\n",
    "mydft(x) = mydft!(x, zeros(ComplexF64, length(x)))"
   ]
  },
  {
   "cell_type": "code",
   "execution_count": null,
   "metadata": {},
   "outputs": [],
   "source": [
    "x = randn(20)\n",
    "X1 = mydft(x)\n",
    "X2 = fft(x)\n",
    "maximum(abs, X1-X2)"
   ]
  },
  {
   "cell_type": "markdown",
   "metadata": {
    "slideshow": {
     "slide_type": "slide"
    }
   },
   "source": [
    "## Problema 5\n",
    "\n",
    "(Desafio) procure na net ou em algum livro como implementar a FFT. Tente!"
   ]
  },
  {
   "cell_type": "markdown",
   "metadata": {},
   "source": [
    "Com $N$ divísível por 2:\n",
    "\\begin{align}\n",
    "X[k] &= \\sum_{r=0}^N x[r] W_N^{rk} \\qquad W_N = \\exp\\left(-\\frac{2\\pi i}{N}\\right)\\\\\n",
    "X[k] &= \\sum_{r=0}^{N/2-1} x[2r] W_N^{2rk} + \\sum_{r=0}^{N/2-1} x[2r+1] W_N^{(2r+1)k} \\\\\n",
    "X[k] &= \\sum_{r=0}^{N/2-1} x[2r] W_{N/2}^{rk} + W_N^k\\sum_{r=0}^{N/2-1} x[2r+1] W_{N/2}^{rk} \\\\\n",
    "X[k] &= X_{par}[k] + W_N^k\\cdot X_{ímpar}[k]\n",
    "\\end{align}"
   ]
  },
  {
   "cell_type": "code",
   "execution_count": null,
   "metadata": {
    "slideshow": {
     "slide_type": "slide"
    }
   },
   "outputs": [],
   "source": [
    "function myfft_rec(x)\n",
    "    N = length(x)\n",
    "    n1 = div(N,2)\n",
    "    if N==1\n",
    "        return [x[1]]\n",
    "    elseif N % 2 != 0\n",
    "        error(\"O tamanho deve ter potência de 2\")\n",
    "    else\n",
    "        Xe = myfft_rec(x[1:2:end])\n",
    "        Xo = myfft_rec(x[2:2:end])\n",
    "        factor = exp.(-2π*im .* (0:N-1) ./ N)\n",
    "        return[Xe .+ factor[1:n1] .* Xo; \n",
    "            Xe .+ factor[(n1+1):end] .* Xo]\n",
    "        \n",
    "    end\n",
    "end    "
   ]
  },
  {
   "cell_type": "code",
   "execution_count": null,
   "metadata": {},
   "outputs": [],
   "source": [
    "x = randn(2^10)\n",
    "X1 = myfft_rec(x)\n",
    "X2 = fft(x)\n",
    "maximum(abs, X1 - X2)"
   ]
  },
  {
   "cell_type": "code",
   "execution_count": null,
   "metadata": {},
   "outputs": [],
   "source": [
    "@time myfft(x);\n",
    "@time fft(x);"
   ]
  },
  {
   "cell_type": "markdown",
   "metadata": {
    "slideshow": {
     "slide_type": "slide"
    }
   },
   "source": [
    "### Jeito mais inteligente\n",
    "(retirado do livro Random Vibratrions, Spectral & Wavelet Analysis de D. E. Newland)"
   ]
  },
  {
   "cell_type": "code",
   "execution_count": null,
   "metadata": {},
   "outputs": [],
   "source": [
    "function bitrev(n, bits)\n",
    "    nrev = zero(n)\n",
    "    N = 1 << bits\n",
    "    nrev = n\n",
    "    \n",
    "    for i in 1:bits-1\n",
    "        n >>= 1\n",
    "        nrev <<= 1\n",
    "        nrev |= n & 1\n",
    "    end\n",
    "    nrev &= N-1\n",
    "    return nrev\n",
    "end\n",
    "function swaparr!(x)\n",
    "    N = length(x)\n",
    "    n = Int(log2(N))\n",
    "    \n",
    "    for i in 1:N\n",
    "        ir = bitrev(i-1, n)+1\n",
    "        if ir > i\n",
    "            tmp = x[i]\n",
    "            x[i] = x[ir]\n",
    "            x[ir] = tmp\n",
    "        end\n",
    "    end\n",
    "end\n",
    "    "
   ]
  },
  {
   "cell_type": "code",
   "execution_count": null,
   "metadata": {
    "slideshow": {
     "slide_type": "slide"
    }
   },
   "outputs": [],
   "source": [
    "function myfft!(x)\n",
    "    N = length(x)\n",
    "    n = Int(log2(N))\n",
    "    swaparr!(x)  \n",
    "    m = 1\n",
    "    while true\n",
    "        U = 1.0+0.0im\n",
    "        j = 1\n",
    "        k = 2^(m-1)\n",
    "        W = exp(-π*im/k)\n",
    "        while true\n",
    "            l = j\n",
    "            while true\n",
    "                t = x[l+k] * U\n",
    "                x[l+k] = x[l] - t\n",
    "                x[l] = x[l] + t\n",
    "                \n",
    "                l = l + 2^m\n",
    "                if l > 2^n\n",
    "                    break\n",
    "                end\n",
    "            end\n",
    "            U = U * W\n",
    "            j = j + 1\n",
    "            if j > k\n",
    "                break\n",
    "            end\n",
    "        end\n",
    "        m = m + 1\n",
    "        if m > n\n",
    "            break\n",
    "        end\n",
    "    end\n",
    "    return x\n",
    "end\n",
    "    "
   ]
  },
  {
   "cell_type": "code",
   "execution_count": null,
   "metadata": {
    "slideshow": {
     "slide_type": "slide"
    }
   },
   "outputs": [],
   "source": [
    "n = 20\n",
    "N = 2^n\n",
    "\n",
    "x = rand(N) + rand(N) .* im\n",
    "@time X1 = fft(x)\n",
    "@time X2 = myfft!(copy(x))\n",
    "\n",
    "maximum(abs,X1-X2)"
   ]
  },
  {
   "cell_type": "markdown",
   "metadata": {
    "slideshow": {
     "slide_type": "slide"
    }
   },
   "source": [
    "## Problema 6\n",
    "\n",
    "A transformada de Fourier está diretamente relacionada com a série de Fourier e é dada por:\n",
    "$$\n",
    "X(\\omega) = \\frac{1}{2\\pi} \\int_{-\\infty}^\\infty x(t)e^{-i\\omega t}\\: dt\n",
    "$$"
   ]
  },
  {
   "cell_type": "markdown",
   "metadata": {},
   "source": [
    " ### 6.1 Calcula a transformada de Fourier para a função \n",
    "  $$\n",
    "  x(t) = \\left\\{\\begin{matrix} 1 & -1 < x < 1 \\\\ 0 & x \\ge 1\\end{matrix}\\right.\n",
    "  $$\n",
    "$$\n",
    "X(\\omega) = \\frac{1}{2\\pi}\\int_{-\\infty}^\\infty x(t)e^{-i\\omega t}\\: dt = \n",
    "\\frac{1}{2\\pi}\\int_{-1}^1 e^{-i\\omega t}\\: dt = \\frac{1}{2\\pi}\\left.\\frac{i e^{-i\\omega}}{\\omega}\\right|_{-1}^1 = \n",
    "\\frac{\\sin\\omega}{\\pi\\omega}\n",
    "$$\n",
    "$$\n",
    "\\text{sinc} = \\frac{\\sin\\pi x}{\\pi x}\n",
    "$$"
   ]
  },
  {
   "cell_type": "code",
   "execution_count": null,
   "metadata": {
    "slideshow": {
     "slide_type": "slide"
    }
   },
   "outputs": [],
   "source": [
    "x = -15:0.01:15\n",
    "y = 1/π .* sinc.(x./π)\n",
    "plot(x,y)"
   ]
  },
  {
   "cell_type": "markdown",
   "metadata": {
    "slideshow": {
     "slide_type": "slide"
    }
   },
   "source": [
    "### 6.2 Discretize a função e use a FFT para calcular a transformada.\n",
    "\n",
    "$$\n",
    "X(\\omega) = \\frac{1}{2\\pi}\\int_{-\\infty}^\\infty x(t)e^{-i\\omega t}\\: dt = \n",
    "\\frac{1}{2\\pi}\\int_{-T_0/2}^{T_0/2} e^{-i\\omega t}\\: dt \\approx \\frac{1}{2\\pi} \\sum_{k=0}^{N-1} x(t_k) e^{-i\\omega t_k}\\Delta t \\qquad \\Delta t = \\frac{T_0}{N} \\qquad t_k = -\\frac{T_0}{2} + k\\cdot \\Delta t\n",
    "$$\n",
    "\n",
    "Ou seja, \n",
    "\n",
    "$$\n",
    "X(\\omega) \\approx \\frac{1}{2\\pi} \\sum_{k=0}^{N-1} x(t_k) e^{-i\\omega t_k}\\Delta t = \n",
    "\\frac{\\Delta t}{2\\pi} \\sum_{k=0}^{N-1} x_k e^{-i\\omega(-T_0/2 + k\\Delta t)} = \n",
    "\\frac{\\Delta t}{2\\pi}\\cdot e^{\\frac{i\\omega T_0}{2}}\\cdot \\sum_{k=0}^{N-1} x_k e^{-i\\omega k\\Delta t} = \n",
    "$$"
   ]
  },
  {
   "cell_type": "markdown",
   "metadata": {
    "slideshow": {
     "slide_type": "slide"
    }
   },
   "source": [
    "\n",
    "\n",
    "Discretizando $\\omega = \\omega_j = j\\cdot \\omega_0 = \\frac{2\\pi j}{T_0}$, $0 \\le j < N$\n",
    "\n",
    "$$\n",
    "X_j = X(\\omega_j) = \\frac{\\Delta t}{2\\pi}\\cdot e^{\\frac{2\\pi j T_0}{2{T_0}}}\\cdot \\sum_{k=0}^{N-1} x_k e^{-\\frac{2\\pi i j\\omega k\\Delta t}{N\\cdot \\Delta t}} = \n",
    " \\frac{\\Delta t}{2\\pi}\\cdot e^{\\pi i j}\\cdot \\sum_{k=0}^{N-1} x_k \\exp\\left(-\\frac{2\\pi i j k}{N}\\right)\n",
    "$$\n",
    "ou seja\n",
    "$$\n",
    "X_j = X(\\omega_j) =\n",
    "\\frac{\\Delta t}{2\\pi}\\cdot e^{\\pi i j}\\cdot \\sum_{i=0}^{N-1} x_k \\exp\\left(-\\frac{2\\pi i j k}{N}\\right)\n",
    "$$\n",
    "A somatória no ultimo termo é a DFT. O termo $e^{\\pi i j}$ é corresponde à translação."
   ]
  },
  {
   "cell_type": "code",
   "execution_count": null,
   "metadata": {
    "slideshow": {
     "slide_type": "slide"
    }
   },
   "outputs": [],
   "source": [
    "Q = 32\n",
    "Δt = 2.0 / Q\n",
    "x = ones(Q)\n",
    "X0 = rfft(x)\n",
    "N = length(X)\n",
    "for j in 0:N-1\n",
    "    X0[j+1] = X0[j+1] * Δt/(2π) * exp(π*j*im) \n",
    "end\n",
    "freq0 = rfftfreq(Q, 1/Δt)\n",
    "w = 2π*freq0;"
   ]
  },
  {
   "cell_type": "code",
   "execution_count": null,
   "metadata": {
    "slideshow": {
     "slide_type": "-"
    }
   },
   "outputs": [],
   "source": [
    "ww = range(0, maximum(w), length=1001)\n",
    "yy = 1/π .* sinc.(ww./π)\n",
    "plot(ww./(2π), yy)\n",
    "plot(freq0, real.(X0), \"ro\")"
   ]
  },
  {
   "cell_type": "markdown",
   "metadata": {
    "slideshow": {
     "slide_type": "slide"
    }
   },
   "source": [
    "### 6.3 Tente verificar o que acontece se você adiciona zeros à esquerda e à direita da função discretizada.\n",
    " \n"
   ]
  },
  {
   "cell_type": "code",
   "execution_count": null,
   "metadata": {},
   "outputs": [],
   "source": [
    "Q1 = 32; nn = 1; x = [zeros(nn*Q1); ones(Q1); zeros(nn*Q1-1)]\n",
    "Q = length(x); Δt = 2.0 / Q1\n",
    "X = rfft(x); N = length(X)\n",
    "for j in 0:N-1\n",
    "    X[j+1] = X[j+1] * Δt/(2π) * exp(π*j*im) \n",
    "end\n",
    "freq = rfftfreq(Q, 1/Δt); w = 2π*freq;"
   ]
  },
  {
   "cell_type": "code",
   "execution_count": null,
   "metadata": {},
   "outputs": [],
   "source": [
    "plot(ww./(2π), yy); plot(freq, real.(X), \"r.\")\n",
    "plot(freq0, real.(X0), \"b+\")"
   ]
  },
  {
   "cell_type": "markdown",
   "metadata": {
    "slideshow": {
     "slide_type": "slide"
    }
   },
   "source": [
    "## Problema 7\n",
    "\n",
    "Faça alguns exemplos do pacote `ApproxFun` (<https://github.com/JuliaApproximation/ApproxFun.jl>)\n"
   ]
  }
 ],
 "metadata": {
  "@webio": {
   "lastCommId": null,
   "lastKernelId": null
  },
  "celltoolbar": "Slideshow",
  "kernelspec": {
   "display_name": "Julia 1.4.1",
   "language": "julia",
   "name": "julia-1.4"
  },
  "language_info": {
   "file_extension": ".jl",
   "mimetype": "application/julia",
   "name": "julia",
   "version": "1.4.1"
  }
 },
 "nbformat": 4,
 "nbformat_minor": 4
}
