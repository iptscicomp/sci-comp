{
 "cells": [
  {
   "cell_type": "markdown",
   "metadata": {},
   "source": [
    "# Integração numérica\n",
    "\n",
    "Também conhecido na literatura como quadratura.\n",
    "\n",
    "Como calcular\n",
    "\n",
    "$$\n",
    "\\int_a^b f(\\xi)\\:d\\xi\n",
    "$$\n",
    "\n",
    "para uma função qualquer?\n",
    "\n",
    " * Na mão: difícil mesmo nos casos mais simples\n",
    " * No computador com cálculo simbólico: útil algumas vezes mas pouco eficiente\n",
    " * Métodos numéricos - na prático o que é usado.\n"
   ]
  },
  {
   "cell_type": "markdown",
   "metadata": {},
   "source": [
    "<!-- TEASER_END -->"
   ]
  },
  {
   "cell_type": "markdown",
   "metadata": {},
   "source": [
    "# Usar as funções aproximadas!\n",
    "\n",
    "É bom lembrar que chegamos em várias maneiras para aproximar uma função:\n",
    "\n",
    "$$\n",
    "y = f(x) \\approx y^\\delta = \\sum_{i=1}^n a_i\\phi_i(x)\n",
    "$$\n",
    "\n",
    "Uma primeira possibilidade é integrar termo a termo:\n",
    "\n",
    "$$\n",
    "\\int_a^bf(\\xi)\\:d\\xi \\approx \\sum_{i=1}^n a_i\\int_a^b\\phi_i(\\xi)\\:d\\xi\n",
    "$$\n",
    "\n",
    "Como $\\phi_i(x)$ foram escolhidos levando em conta simplicidade, esta abordagem pode ser utilizada. "
   ]
  },
  {
   "cell_type": "markdown",
   "metadata": {},
   "source": [
    "# Regra do ponto médio:\n",
    "\n",
    "Dados os pontos $x_1, x_2, \\ldots, x_n$, usando interpoladores constantes"
   ]
  },
  {
   "cell_type": "code",
   "execution_count": null,
   "metadata": {},
   "outputs": [],
   "source": [
    "using PyPlot\n",
    "using CurveFit\n",
    "using BenchmarkTools"
   ]
  },
  {
   "cell_type": "code",
   "execution_count": null,
   "metadata": {},
   "outputs": [],
   "source": [
    "x = 0:0.1:1\n",
    "xx = 0:0.002:1\n",
    "f(x) = sin(π*x) + 0.5 + cos(x)\n",
    "y = f.(x);\n",
    "yy = f.(xx);"
   ]
  },
  {
   "cell_type": "code",
   "execution_count": null,
   "metadata": {},
   "outputs": [],
   "source": [
    "plot(xx, yy, \"b-\")\n",
    "plot(x, y, \"rs\")\n",
    "\n",
    "nx = length(x)\n",
    "\n",
    "lty = \"k-\"\n",
    "\n",
    "for i in 1:nx-1\n",
    "    xm = 0.5 * (x[i] + x[i+1])\n",
    "    ym = f(xm)\n",
    "    plot([x[i], x[i], x[i+1], x[i+1]], [0, ym, ym, 0], lty )\n",
    "    plot([xm, xm], [0, ym], \"k:\")\n",
    "    \n",
    "end\n"
   ]
  },
  {
   "cell_type": "markdown",
   "metadata": {},
   "source": [
    "Analisando a figura acima, pode-se facilmante ver que a integral vale (para pontos igualmente espaçados):\n",
    "\n",
    "$$\n",
    "\\int_a^b f(\\xi)\\:d\\xi \\approx \\frac{b-a}{n-1} \\sum_{i=1}^{n-1}\\left[ f\\left(x_{i+\\frac{1}{2}}\\right) \\right]\n",
    "$$\n"
   ]
  },
  {
   "cell_type": "code",
   "execution_count": null,
   "metadata": {},
   "outputs": [],
   "source": [
    "\n",
    "function midrule(a, b, f, n)\n",
    "    dx = (b-a) / n\n",
    "    x = range(a, b, length=n+1)\n",
    "    s = 0.0\n",
    "    for i in 1:n\n",
    "        s += f(x[i]+dx/2)\n",
    "    end\n",
    "    \n",
    "    return dx * s\n",
    "end\n",
    "\n",
    "countmidrule(n) = (n, n*3)"
   ]
  },
  {
   "cell_type": "code",
   "execution_count": null,
   "metadata": {},
   "outputs": [],
   "source": [
    "## Análise de convergência:\n",
    "\n",
    "nn = 2:1000\n",
    "a = 0.0\n",
    "b = 1.0\n",
    "Ie = 2/π + 0.5 + sin(1)\n",
    "\n",
    "Inn = midrule.(a, b, f, nn);\n",
    "err = abs.(Inn .- Ie);"
   ]
  },
  {
   "cell_type": "code",
   "execution_count": null,
   "metadata": {},
   "outputs": [],
   "source": [
    "power_fit(nn, err)"
   ]
  },
  {
   "cell_type": "code",
   "execution_count": null,
   "metadata": {},
   "outputs": [],
   "source": [
    "loglog(nn, err, \"bo\")\n",
    "xlabel(\"n\")\n",
    "ylabel(\"ε\")\n",
    "nn1 = 10:300\n",
    "ee1 = 5 .* nn1.^(-2)\n",
    "plot(nn1, ee1, \"r--\")\n",
    "text(50, 0.005, L\"$\\mathcal{O}(n^{-2})$\")"
   ]
  },
  {
   "cell_type": "markdown",
   "metadata": {},
   "source": [
    "Assim, a estimativa do erro vale:\n",
    "\n",
    "$$\n",
    "\\varepsilon = \\mathcal{O}\\left(n^{-2}\\right)\n",
    "$$"
   ]
  },
  {
   "cell_type": "markdown",
   "metadata": {},
   "source": [
    "# Regra do trapézio\n",
    "\n",
    "Agora, ao invés de usar interpolação consante entre os pontos, pode-se ligar os pontos por retas."
   ]
  },
  {
   "cell_type": "code",
   "execution_count": null,
   "metadata": {},
   "outputs": [],
   "source": [
    "function trapezoidal(a, b, f, n)\n",
    "    x = range(a, b, length=n+1)\n",
    "    \n",
    "    s = f(x[1])/2 + f(x[end])/2\n",
    "    \n",
    "    for i in 2:n\n",
    "        s += f(x[i])\n",
    "    end\n",
    "    \n",
    "    return (b-a) * s/n\n",
    "end\n",
    "    "
   ]
  },
  {
   "cell_type": "code",
   "execution_count": null,
   "metadata": {},
   "outputs": [],
   "source": [
    "nn2 = nn1\n",
    "Inn2 = trapezoidal.(a, b, f, nn2);\n",
    "err2 = abs.(Inn2 .- Ie);"
   ]
  },
  {
   "cell_type": "code",
   "execution_count": null,
   "metadata": {},
   "outputs": [],
   "source": [
    "loglog(nn2, err2, \"bo\")\n",
    "xlabel(\"n\")\n",
    "ylabel(\"ε\")\n",
    "mm = 10:300\n",
    "ee1 = 5 .* mm.^(-2)\n",
    "plot(mm, ee1, \"r--\")\n",
    "text(50, 0.005, L\"$\\mathcal{O}(n^{-2})$\")"
   ]
  },
  {
   "cell_type": "markdown",
   "metadata": {},
   "source": [
    "### Estimativa de erro da regra do trapézio:\n",
    "\n",
    "O erro ao integrar uma seção usando a regra do trapézio vale:\n",
    "\n",
    "$$\n",
    "\\epsilon_i = R_i(h) - \\int_{i-1}^i f(x)\\:dx = f''(\\xi) \\frac{h^3}{12}\n",
    "$$\n",
    "\n",
    "Erro total:\n",
    "\n",
    "$$\n",
    "\\epsilon = \\sum_{i=1}^n \\epsilon_i \\approx f''(\\xi)\\frac{h^2(b-a)}{12} \\sim h^2 \n",
    "$$"
   ]
  },
  {
   "cell_type": "markdown",
   "metadata": {},
   "source": [
    "# Regra de Simpson\n",
    "\n",
    "Usa três pontos para aproximar uma parábola:\n",
    "\n",
    "$$\n",
    "\\int_{i-1}^{i+1} f(x)\\:dx = S_i(h) = \\frac{h}{3}\\left[f(x_{i-1}) + 4f(x_i) + f(x_{i+1})\\right]\n",
    "$$\n",
    "\n",
    "Assim, no domínio inteiro, \n",
    "\n",
    "$$\n",
    "\\int_a^b f(x)\\:dx \\approx \\frac{h}{3}\\left[f(x_1) + 4f(x_2) + 2f(x_3) + 4f(x_4) + \\ldots + 2f(x_{n-2}) + 4f(x_{n-1}) + f(x_n)\\right]\n",
    "$$\n",
    "\n",
    "### Estimativa do erro:\n",
    "\n",
    "$$\n",
    "\\int_{i-1}^{i+1} f(x)\\:dx = \\frac{h}{3}\\left[f(x_{i-1}) + 4f(x_i) + f(x_{i+1})\\right] - \\frac{h^5}{90}f^{(4)}(\\xi)\n",
    "$$\n",
    "\n",
    "$$\n",
    "\\epsilon_i = \\mathcal{O}(h^5) \\quad\\Longrightarrow\\quad \\epsilon = \\mathcal{O}(h^4)\n",
    "$$\n"
   ]
  },
  {
   "cell_type": "code",
   "execution_count": null,
   "metadata": {},
   "outputs": [],
   "source": [
    "# Detalhe n tem que ser divisível por 2.\n",
    "function simpsonsrule(a, b, f, n)\n",
    "    x = range(a, b, length=n+1)\n",
    "    \n",
    "    s = f(x[1]) + f(x[end])\n",
    "    w, w2 = 4,2\n",
    "    for i = 2:n\n",
    "        s += w*f(x[i])\n",
    "        w, w2 = w2, w\n",
    "    end\n",
    "    \n",
    "    return s * (b-a)/(3n)\n",
    "end"
   ]
  },
  {
   "cell_type": "code",
   "execution_count": null,
   "metadata": {},
   "outputs": [],
   "source": [
    "nn3 = 2:2:1000\n",
    "Inn3 = simpsonsrule.(a, b, f, nn3);\n",
    "err3 = abs.(Inn3 .- Ie);"
   ]
  },
  {
   "cell_type": "code",
   "execution_count": null,
   "metadata": {},
   "outputs": [],
   "source": [
    "loglog(nn3, err3, \"bo\")\n",
    "grid()\n",
    "xlabel(\"n\")\n",
    "ylabel(\"ε\")\n",
    "nn1 = 10:300\n",
    "ee1 = 5 .* nn1.^(-4)\n",
    "plot(nn1, ee1, \"r--\")\n",
    "text(50, 0.000002, L\"$\\mathcal{O}(n^{-4})$\")"
   ]
  },
  {
   "cell_type": "markdown",
   "metadata": {},
   "source": [
    "# Generalização do processo\n",
    "\n",
    "Usando as idéias acima com interpoladores polinomiais de ordem crescente pode-se obter regras de ordem superior para a integração. Com isso se chegam às formulas de Newton-Cotes (<https://en.wikipedia.org/wiki/Newton%E2%80%93Cotes_formulas>)\n",
    "\n",
    "**Cuidado com isso!!!** Lembre-se das oscilações dos polinômios de Lagrange.\n"
   ]
  },
  {
   "cell_type": "markdown",
   "metadata": {},
   "source": [
    "# Integração de Romberg\n",
    "\n",
    "Um processo parecido com a extrapolação de Richardson (veremos isso mais tarde). Suponhamos que queremos estimar\n",
    "\n",
    "$$\n",
    "\\int_a^b f(\\xi) \\: d\\xi\n",
    "$$\n",
    "\n",
    "Uma primeira aproximação é usar a regra do trapézio nas extremidades. O intervalo pode ser dividido por dois sequencialmente, obtendo-se:\n",
    "\n",
    "$$\n",
    "\\begin{align*}\n",
    "R_{1,1} &= \\frac{h_1}{2}\\left[f(a) + f(b)\\right] \\\\\n",
    "R_{2,1} &= \\frac{h_2}{2}\\left[f(a) + f(b) + 2f(a+h_2)\\right]  = \\frac{1}{2}\\left[ R_{1,1} + h_1 f(a+h_2)\\right]\\\\\n",
    "\\vdots & \\\\\n",
    "R_{k,1} &= \\frac{1}{2}\\left\\{ R_{k-1,1} + h_{k-1}\\sum_{i=1}^{2^k-2}f\\left[a + \\left(2i-1\\right)h_k\\right]\\right\\}\n",
    "\\end{align*}\n",
    "$$\n",
    "onde \n",
    "\n",
    "$$h_k = \\frac{b-a}{2^{k-1}}$$\n",
    "\n",
    "O erro da integral vale:\n",
    "\n",
    "$$\n",
    "\\int_a^b f(x)\\:dx - R_{k,1} = \\sum_{i=1}^\\infty K_i h_k^{2i} = K_1 h_k^2 + \\sum_{i=2}^\\infty K_i h_k^{2i}\n",
    "$$\n",
    "\n",
    "por outro lado, lembrando que \n",
    "\n",
    "$$\\epsilon_{k+1} = \\frac{\\epsilon_{k}}{4}$$\n",
    "\n",
    "chega-se a:\n",
    "\n",
    "$$\n",
    "\\int_a^b f(x)\\:dx - R_{k+1,1} = \\sum_{i=1}^\\infty K_i h_{k+1}^{2i} = \\sum_{i=1}^\\infty \\frac{K_i h_{k}^{2i}}{2^{2i}} =  \\frac{K_1 h_k^2}{4} + \\sum_{i=2}^\\infty \\frac{K_i h_k^{2i}}{4^i}\n",
    "$$\n",
    "\n",
    "substraindo a equação anterior de 4 vezes a equação acima, chega-se à seguinte relação:\n",
    "\n",
    "$$\n",
    "R_{k,2} = R_{k,1} + \\frac{R_{k,1} - R_{k-1,1}}{3}\n",
    "$$\n",
    "\n",
    "Repetindo este processo:\n",
    "\n",
    "$$\n",
    "R_{k,j} = R_{k,j-1} + \\frac{R_{k,j-1} - R_{k-1,j-1}}{4^{j-1}-1}\n",
    "$$\n",
    "\n",
    "\n"
   ]
  },
  {
   "cell_type": "code",
   "execution_count": null,
   "metadata": {},
   "outputs": [],
   "source": [
    "function romberg1(a, b, f, n)\n",
    "    R = zeros(n, n)\n",
    "    h = Float64(b-a)\n",
    "    R[1,1] = h/2 * (f(a) + f(b))\n",
    "    \n",
    "    for i in 2:n\n",
    "        s = 0.0\n",
    "        for k in 1:(2^(i-2))\n",
    "            s += f(a + (k-0.5)*h)\n",
    "        end\n",
    "        R[i,1] = 0.5 * (R[i-1,1] + h * s)\n",
    "        for k in 2:i\n",
    "            R[i,k] = R[i,k-1] + (R[i,k-1] - R[i-1,k-1]) / (4^(k-1) - 1)\n",
    "        end\n",
    "        h = h/2\n",
    "    end\n",
    "    \n",
    "    return R\n",
    "end\n"
   ]
  },
  {
   "cell_type": "code",
   "execution_count": null,
   "metadata": {},
   "outputs": [],
   "source": [
    "romberg1(0, π, sin, 6)"
   ]
  },
  {
   "cell_type": "code",
   "execution_count": null,
   "metadata": {},
   "outputs": [],
   "source": [
    "function romberg(a, b, f, n)\n",
    "    R1 = zeros(n)\n",
    "    R2 = zeros(n)\n",
    "    h = Float64(b-a)\n",
    "    R1[1] = h/2 * (f(a) + f(b))\n",
    "    for i in 2:n\n",
    "        s = 0.0\n",
    "        for k in 1:(2^(i-2))\n",
    "            s += f(a + (k-0.5)*h)\n",
    "        end\n",
    "        R2[1] = 0.5 * (R1[1] + h * s)\n",
    "        for k in 2:i\n",
    "            R2[k] = R2[k-1] + (R2[k-1] - R1[k-1]) / (4^(k-1) - 1)\n",
    "        end\n",
    "        for k in 1:i\n",
    "            R1[k] = R2[k]\n",
    "        end\n",
    "        h = h/2\n",
    "    end\n",
    "    \n",
    "    return R2[n]\n",
    "    \n",
    "end\n"
   ]
  },
  {
   "cell_type": "code",
   "execution_count": null,
   "metadata": {},
   "outputs": [],
   "source": [
    "function countromberg(n)\n",
    "    #R1 = zeros(n)\n",
    "    #R2 = zeros(n)\n",
    "    #h = Float64(b-a)\n",
    "    #R1[1] = h/2 * (f(a) - f(b))\n",
    "    countfun = 2\n",
    "    countfloat = 2\n",
    "    for i in 2:n\n",
    "        for k in 1:(2^(i-2))\n",
    "            countfun += 1\n",
    "            countfloat += 4\n",
    "        end\n",
    "        for k in 2:i\n",
    "            countfloat += 5\n",
    "        end\n",
    "        countfloat += 1\n",
    "    end\n",
    "    \n",
    "    return countfun, countfloat\n",
    "    \n",
    "end\n"
   ]
  },
  {
   "cell_type": "code",
   "execution_count": null,
   "metadata": {},
   "outputs": [],
   "source": [
    "nnx = 1:20\n",
    "nny = countromberg.(nnx)\n",
    "nfun = [x[1] for x in nny]\n",
    "nfloat = [x[2] for x in nny];\n"
   ]
  },
  {
   "cell_type": "code",
   "execution_count": null,
   "metadata": {},
   "outputs": [],
   "source": [
    "semilogy(nnx, nfun)\n",
    "grid()\n",
    "xlabel(\"Número de iterações\")\n",
    "ylabel(\"Número de chamadas de função\")"
   ]
  },
  {
   "cell_type": "code",
   "execution_count": null,
   "metadata": {},
   "outputs": [],
   "source": [
    "nn4 = nnx\n",
    "Inn4 = romberg.(a, b, f, nn4);\n",
    "err4 = abs.(Inn4 .- Ie);"
   ]
  },
  {
   "cell_type": "code",
   "execution_count": null,
   "metadata": {},
   "outputs": [],
   "source": [
    "rom = loglog(nfun, err4, \"bo\", label=\"Romberg\")\n",
    "sim = plot(nn3, err3, \"r-\", label=\"Simpson's Rule\")\n",
    "mid = plot(nn, err, \"g-\", label=\"Mid Point\")\n",
    "grid()\n",
    "xlabel(\"Número de Chamadas de função\")\n",
    "ylabel(\"ε\")\n",
    "legend()"
   ]
  },
  {
   "cell_type": "code",
   "execution_count": null,
   "metadata": {},
   "outputs": [],
   "source": [
    "## Benchmark para comparar tempo de execução:\n",
    "I1a = midrule(a, b, f, 400)\n",
    "I2a = simpsonsrule(a, b, f, 22)\n",
    "I3a = romberg(a, b, f, 4)\n",
    "\n",
    "abs(I1a - Ie), abs(I2a - Ie), abs(I3a - Ie)"
   ]
  },
  {
   "cell_type": "code",
   "execution_count": null,
   "metadata": {},
   "outputs": [],
   "source": [
    "@benchmark midrule(a, b, f, 400)"
   ]
  },
  {
   "cell_type": "code",
   "execution_count": null,
   "metadata": {},
   "outputs": [],
   "source": [
    "@benchmark simpsonsrule(a, b, f, 22)"
   ]
  },
  {
   "cell_type": "code",
   "execution_count": null,
   "metadata": {},
   "outputs": [],
   "source": [
    "@benchmark romberg(a, b, f, 4)"
   ]
  },
  {
   "cell_type": "code",
   "execution_count": null,
   "metadata": {},
   "outputs": [],
   "source": [
    "I1b = midrule(a, b, f, 800000)\n",
    "I2b = simpsonsrule(a, b, f, 1000)\n",
    "I3b = romberg(a, b, f, 6)\n",
    "\n",
    "abs(I1b - Ie), abs(I2b - Ie), abs(I3b - Ie)"
   ]
  },
  {
   "cell_type": "code",
   "execution_count": null,
   "metadata": {},
   "outputs": [],
   "source": [
    "@benchmark midrule(a, b, f, 800000)"
   ]
  },
  {
   "cell_type": "code",
   "execution_count": null,
   "metadata": {},
   "outputs": [],
   "source": [
    "@benchmark simpsonsrule(a, b, f, 1000)"
   ]
  },
  {
   "cell_type": "code",
   "execution_count": null,
   "metadata": {},
   "outputs": [],
   "source": [
    "@benchmark romberg(a, b, f, 6)"
   ]
  }
 ],
 "metadata": {
  "@webio": {
   "lastCommId": null,
   "lastKernelId": null
  },
  "kernelspec": {
   "display_name": "Julia 1.4.2",
   "language": "julia",
   "name": "julia-1.4"
  },
  "language_info": {
   "file_extension": ".jl",
   "mimetype": "application/julia",
   "name": "julia",
   "version": "1.4.2"
  }
 },
 "nbformat": 4,
 "nbformat_minor": 2
}
