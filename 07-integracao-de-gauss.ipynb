{
 "cells": [
  {
   "cell_type": "markdown",
   "metadata": {},
   "source": [
    "# Integração de Gauss\n",
    "\n",
    "Uma abordagem bem genérica para cálculo de integrais é adotar a seguinte estratégia:\n",
    "\n",
    "$$\n",
    "\\int_a^b f(x)\\:dx \\approx \\sum_{i=1}^n c_i f(x_i)\n",
    "$$\n",
    "\n",
    "Onde $x_i$ são nós e $c_i$ são os pesos correspondentes. A primeira questão é como calcular estes pesos $c_i$. \n",
    "\n",
    "Usando interpolação polinomial, a partir dos nós $x_i$, *sempre* se pode construir uma interpolação de Lagrange, ou seja dados um polinômio qualquer $p_{n-1}(x)$ de grau n-1, \n",
    "\n",
    "$$\n",
    "p_n(x) = a_0 + a_1 x + a_2 x^2 + \\cdots + a_{n-1} x^{n-1} = \\sum_{i=1}^{n} p_{n-1}(x_i) h_i(x)\n",
    "$$\n",
    "\n",
    "Nesta equação, $h_i(x)$ é o i-ésimo interpolador de Lagrange. A partir desta aproximação polinomial, a integral pode ser calculada:\n",
    "\n",
    "$$\n",
    "\\int_a^b f(x)\\:dx \\approx \\int_a^b p_{n-1}(x)\\:dx = \\int_a^b \\left[\\sum_{i=1}^{n} p_{n-1}(x_i) h_i(x)\\right] \\: dx = \\sum_{i=1}^{n} \\int_a^b p_{n-1}(x_i) h_i(x)\\:dx\n",
    "$$\n",
    "\n",
    "Se o polinômio $p_{x-1}(x)$ interpola a função $f(x)$ nos n nós $x_i$, \n",
    "\n",
    "$$\n",
    "\\sum_{i=1}^{n} \\int_a^b p_{n-1}(x_i) h_i(x)\\:dx = \\sum_{i=1}^{n} \\int_a^b f(x_i) h_i(x)\\:dx = \\sum_{i=1}^n c_i f(x_i)\n",
    "$$\n",
    "\n",
    "com\n",
    "\n",
    "$$\n",
    "c_i = \\int_a^b h_i(x)\\:dx \\qquad 1 \\le i \\le n\n",
    "$$\n",
    "\n",
    "\n",
    "**Os pontos $x_i$ são fixados por quem quer calcular a integral"
   ]
  },
  {
   "cell_type": "markdown",
   "metadata": {},
   "source": [
    "<!-- TEASER_END -->"
   ]
  },
  {
   "cell_type": "markdown",
   "metadata": {},
   "source": [
    "E se escolhermos pontos óptimos de integração, será que conseguimos algo melhor???\n",
    "\n",
    "Para facilitar as coisas, as integrais serão sempre calculadas em um domínio $-1\\le x \\le 1$. Para um domínio qualquer, \n",
    "\n",
    "$$\n",
    "\\int_a^b f(x)\\:dx = \\int_{-1}^1 f\\left[x(\\xi)\\right] J(\\xi) \\:d\\xi\n",
    "$$\n",
    "\n",
    "onde $J(\\xi)$ é o Jacobiano da transformação e uma transformação do tipo \n",
    "\n",
    "$$\n",
    "x(\\xi) = \\frac{1-\\xi}{2} a + \\frac{1+\\xi}{2} b\n",
    "$$\n",
    "\n",
    "de modo que\n",
    "\n",
    "$$\n",
    "J(\\xi) = \\frac{dx}{d\\xi} = \\frac{b-a}{2}\n",
    "$$"
   ]
  },
  {
   "cell_type": "markdown",
   "metadata": {},
   "source": [
    "A idéia dop método de Gauss, é encontrar os coeficientes $c_i$ e $x_i$ que maximizam o grau do polinomio interpolador que pode ser integrado *exatamente*:\n",
    "\n",
    "$$\n",
    "\\int_{-1}^1 f(x) \\:dx = c_1 f(x_1) + c_2 f(x_2)\n",
    "$$\n",
    "\n",
    "Neste caso, existem 4 graus de liberdade: $c_1$, $c_2$, $x_1$ e $x_2$. Um polinômio de grau 3 têm 4 coeficientes. Assim, \n",
    "\n",
    "$$\n",
    "\\int_{-1}^1 \\left(a_0 + a_1x + a_2x^2 + a_3x^3\\right)\\:dx = a_0\\int_{-1}^1 1\\:dx + \n",
    "a_1 \\int_{-1}^1x \\:dx + a_2\\int_{-1}^1 x^2\\:dx + a_3 \\int_{-1}^1 x^3 \\:dx \n",
    "$$\n",
    "\n",
    "Integrando exatamente os polinômios 1, $x$, $x^2$ e $x^3$, temos:\n",
    "\n",
    "$$\n",
    "c_1\\cdot 1 + c_2\\cdot 2 = \\int_{-1}^1 1\\:dx  = 2\\\\\n",
    "c_1\\cdot x_1 + c_2\\cdot x_2 = \\int_{-1}^1 x\\:dx  = 0\\\\\n",
    "c_1\\cdot x_1^2 + c_2\\cdot x_2^2 = \\int_{-1}^1 x^2\\:dx  = \\frac{2}{3}\\\\\n",
    "c_1\\cdot x_1^3 + c_2\\cdot x_2^3 = \\int_{-1}^1 x^3\\:dx  = 0\\\\\n",
    "$$\n",
    "\n",
    "Isto é um sistema de equações algébricas de 4 equações e 4 incógnitas cuja solução é:\n",
    "\n",
    "$$\n",
    "c_1 = 1, \\quad c_2=1, \\quad x_1 = -\\frac{\\sqrt{3}}{3}, \\quad x_1 = \\frac{\\sqrt{3}}{3}\n",
    "$$\n",
    "\n",
    "Com estes pesos e nós, integrais de grau 3 ou inferior são calculados exatamente!\n",
    "\n"
   ]
  },
  {
   "cell_type": "markdown",
   "metadata": {},
   "source": [
    "# Generalização do processo anterior\n",
    "\n",
    "Este processo poderia ser repetido para polinômios de grau mais alto. Ou eventualmente usando outros tipos de função, fixando alguns nós ou até mesmo fixando alguns pesos. Mas existem formas alternativas de obter os nós e pesos.\n",
    "\n",
    "A biblioteca `Jacobi` <https://github.com/pjabardo/Jacobi.jl> calcula os pesos e nós para as seguintes integrais:\n",
    "\n",
    "$$\n",
    "\\int_{-1}^1 (1-x)^\\alpha (1+x)^\\beta f(x)\\:dx = \\sum_{i=1}^n w_i^{\\alpha,\\beta} f(x_i)\n",
    "$$"
   ]
  },
  {
   "cell_type": "code",
   "execution_count": null,
   "metadata": {},
   "outputs": [],
   "source": [
    "using Jacobi\n",
    "using PyPlot\n",
    "using Polynomials"
   ]
  },
  {
   "cell_type": "markdown",
   "metadata": {},
   "source": [
    "# Exemplos\n",
    "\n"
   ]
  },
  {
   "cell_type": "code",
   "execution_count": null,
   "metadata": {},
   "outputs": [],
   "source": [
    "function gaussxw(n, α, β, ::Type{T}=Float64) where {T<:Number}\n",
    "    z = zgj(n, α, β, T)\n",
    "    w = wgj(z, α, β)\n",
    "    \n",
    "    return z, w\n",
    "end\n",
    "applyint(g, f) = sum(f.(g[1]) .* g[2])"
   ]
  },
  {
   "cell_type": "code",
   "execution_count": null,
   "metadata": {},
   "outputs": [],
   "source": [
    "function calcerr(g, f, Ie)\n",
    "    \n",
    "    I = applyint(g, f)\n",
    "    return abs(I-Ie)\n",
    "end"
   ]
  },
  {
   "cell_type": "code",
   "execution_count": null,
   "metadata": {},
   "outputs": [],
   "source": [
    "setprecision(BigFloat, 2048)"
   ]
  },
  {
   "cell_type": "code",
   "execution_count": null,
   "metadata": {},
   "outputs": [],
   "source": [
    "nn1 = 2:25\n",
    "gc1 = gaussxw.(nn1, 0, 0);"
   ]
  },
  {
   "cell_type": "code",
   "execution_count": null,
   "metadata": {},
   "outputs": [],
   "source": [
    "nn2 = 2:40\n",
    "gc2 = gaussxw.(nn2, 0, 0, BigFloat);"
   ]
  },
  {
   "cell_type": "markdown",
   "metadata": {},
   "source": [
    "## $1 + x + x^2 + x^3 + x^4 + x^5$"
   ]
  },
  {
   "cell_type": "code",
   "execution_count": null,
   "metadata": {},
   "outputs": [],
   "source": [
    "coefs = [1,1,1,1,1,1]\n",
    "P1 = Poly(Float64.(coefs))\n",
    "IP1 = polyint(P1)\n",
    "Ie1 = IP1(1) - IP1(-1)"
   ]
  },
  {
   "cell_type": "code",
   "execution_count": null,
   "metadata": {},
   "outputs": [],
   "source": [
    "err1 = calcerr.(gc1, x->P1(x), Ie1);"
   ]
  },
  {
   "cell_type": "code",
   "execution_count": null,
   "metadata": {},
   "outputs": [],
   "source": [
    "loglog(nn1, err1, \"bo\")"
   ]
  },
  {
   "cell_type": "markdown",
   "metadata": {},
   "source": [
    "# Polynomio de grau 19 com coeficientes aleatórios"
   ]
  },
  {
   "cell_type": "code",
   "execution_count": null,
   "metadata": {},
   "outputs": [],
   "source": [
    "coefs = randn(20)\n",
    "P2 = Poly(Float64.(coefs))\n",
    "IP2 = polyint(P2)\n",
    "Ie2 = IP2(1) - IP2(-1)"
   ]
  },
  {
   "cell_type": "code",
   "execution_count": null,
   "metadata": {},
   "outputs": [],
   "source": [
    "err2 = calcerr.(gc1, x->P2(x), Ie2);"
   ]
  },
  {
   "cell_type": "code",
   "execution_count": null,
   "metadata": {},
   "outputs": [],
   "source": [
    "loglog(nn1, err2, \"bo\")\n"
   ]
  },
  {
   "cell_type": "markdown",
   "metadata": {},
   "source": [
    "## $\\sin nx$\n",
    "\n",
    "$$\n",
    "\\int_{-1}^1 \\sin n x \\:dx = \\frac{2\\sin n}{n}\n",
    "$$"
   ]
  },
  {
   "cell_type": "code",
   "execution_count": null,
   "metadata": {},
   "outputs": [],
   "source": [
    "n=4\n",
    "f(x,n, ::Type{T}=Float64) where T = cos(n*x)\n",
    "ife(n, ::Type{T}=Float64) where T = 2*sin(n*one(T))/n\n",
    "\n",
    "xx = -1:0.01:1\n",
    "plot(xx, f.(xx,n), \"k-\")\n"
   ]
  },
  {
   "cell_type": "code",
   "execution_count": null,
   "metadata": {},
   "outputs": [],
   "source": [
    "n = 3\n",
    "Ie3 = ife(n)\n",
    "err3 = calcerr.(gc1, x->f(x,n), Ie3) \n",
    "Ie3b = ife(n, BigFloat)\n",
    "err3b = calcerr.(gc2, x->f(x,n,BigFloat), Ie3b) \n",
    "\n",
    "\n",
    "loglog(nn2, err3b, \"rs\")\n",
    "loglog(nn1, err3, \"bo\")\n"
   ]
  },
  {
   "cell_type": "markdown",
   "metadata": {},
   "source": [
    "## $\\int_{-1}^1 (1 + x + x^2 + x^3 + x^4 + x^5)(1-x)^2(1+x)^3 \\:dx$\n",
    "\n",
    "### Gauss normal"
   ]
  },
  {
   "cell_type": "code",
   "execution_count": null,
   "metadata": {},
   "outputs": [],
   "source": [
    "P4 = Poly([1.0, 1.0, 1.0, 1.0, 1.0, 1.0, 1.0, 1.0, 1.0, 1.0])\n",
    "f4 = P4 * Poly([1.0, -1])^2 * Poly([1.0, 1.0])^3\n",
    "\n",
    "IP4 = polyint(f4)\n",
    "Ie4 = IP4(1.0) - IP4(-1.0)\n"
   ]
  },
  {
   "cell_type": "code",
   "execution_count": null,
   "metadata": {},
   "outputs": [],
   "source": [
    "err4 = calcerr.(gc1, x->f4(x), Ie4);"
   ]
  },
  {
   "cell_type": "code",
   "execution_count": null,
   "metadata": {},
   "outputs": [],
   "source": [
    "loglog(nn1, err4, \"bo\")"
   ]
  },
  {
   "cell_type": "markdown",
   "metadata": {},
   "source": [
    "### Usando os pesos - Gauss-Jacobi\n",
    "\n"
   ]
  },
  {
   "cell_type": "code",
   "execution_count": null,
   "metadata": {},
   "outputs": [],
   "source": [
    "gc3 = gaussxw.(nn1, 2, 3);"
   ]
  },
  {
   "cell_type": "code",
   "execution_count": null,
   "metadata": {},
   "outputs": [],
   "source": [
    "err4b = calcerr.(gc3, x->P4(x), Ie4);"
   ]
  },
  {
   "cell_type": "code",
   "execution_count": null,
   "metadata": {},
   "outputs": [],
   "source": [
    "lgj = loglog(nn1, err4, \"bo\", label=\"Gauss\")\n",
    "lgjab = loglog(nn1, err4b, \"rs\", label=\"Inclui peso\")\n",
    "legend()"
   ]
  },
  {
   "cell_type": "markdown",
   "metadata": {},
   "source": [
    "## Mesmo polinômio mas inclui as extremidades"
   ]
  },
  {
   "cell_type": "code",
   "execution_count": null,
   "metadata": {},
   "outputs": [],
   "source": [
    "function gaussxwL(n, α, β, ::Type{T}=Float64) where {T<:Number}\n",
    "    z = zglj(n, α, β, T)\n",
    "    w = wglj(z, α, β)\n",
    "    \n",
    "    return z, w\n",
    "end"
   ]
  },
  {
   "cell_type": "code",
   "execution_count": null,
   "metadata": {},
   "outputs": [],
   "source": [
    "gc4 = gaussxwL.(nn1, 0, 0);\n",
    "gc5 = gaussxwL.(nn1, 2, 3);"
   ]
  },
  {
   "cell_type": "code",
   "execution_count": null,
   "metadata": {},
   "outputs": [],
   "source": [
    "err5 = calcerr.(gc4, x->f4(x), Ie4);\n",
    "err5b = calcerr.(gc5, x->P4(x), Ie4);"
   ]
  },
  {
   "cell_type": "code",
   "execution_count": null,
   "metadata": {},
   "outputs": [],
   "source": [
    "lgj = loglog(nn1, err4, \"bo\", label=\"Gauss\")\n",
    "lgjab = loglog(nn1, err4b, \"rs\", label=\"Inclui peso\")\n",
    "lglj = loglog(nn1, err5, \"gx\", label=\"Gauss-Lobatto\")\n",
    "lgjlab = loglog(nn1, err5b, \"k.\", label=\"GL Inclui peso\")\n",
    "legend()"
   ]
  },
  {
   "cell_type": "markdown",
   "metadata": {},
   "source": [
    "# Podemos incluir apenas uma extremidade\n",
    "\n",
    " * Não inclui qualquer extremidade: `zgj`, `wgj`\n",
    " * Inclui ambas as extremidades: `zglj`, `wglj`\n",
    " * Inclui apenas -1: `zgrjm`, `wgrjm`\n",
    " * Inclui apenas +1: `zgrjp`, `wgrjp`\n",
    " "
   ]
  },
  {
   "cell_type": "markdown",
   "metadata": {},
   "source": [
    "## Problema 1\n",
    "\n",
    "Calcule usando os diversos métodos apresentados a seguinte integral:\n",
    "\n",
    "$$\n",
    "\\int_{-1}^1 \\left(1- | x |\\right) \\: dx\n",
    "$$\n",
    "\n"
   ]
  },
  {
   "cell_type": "code",
   "execution_count": null,
   "metadata": {},
   "outputs": [],
   "source": []
  },
  {
   "cell_type": "markdown",
   "metadata": {},
   "source": [
    "## Problema 2\n",
    "\n",
    "Calcule utilizando os diversos métodos apresentados a seguinte integral:\n",
    "\n",
    "$$\n",
    "\\int_{-1}^1 \\exp\\left(-x^2\\right)\\:dx\n",
    "$$"
   ]
  },
  {
   "cell_type": "code",
   "execution_count": null,
   "metadata": {},
   "outputs": [],
   "source": []
  },
  {
   "cell_type": "markdown",
   "metadata": {},
   "source": [
    "## Problema 3\n",
    "\n",
    "\n",
    "Calcule utilizando os diversos métodos apresentados a seguinte integral:\n",
    "\n",
    "$$\n",
    "\\int_{-\\infty}^\\infty \\exp\\left(-x^2\\right)\\:dx\n",
    "$$\n",
    "\n",
    "Dicas: O jeito mais fácil é calcular esta integral de $-L$ a $L$ e ver como se comporta quando $L\\longrightarrow\\infty$. Mas o melhor jeito é mapear $x$ para outra variável $\\xi$ de modo que quando $x\\longrightarrow\\infty$, $\\xi\\longrightarrow 1$ (ou qualquer outra constante)."
   ]
  },
  {
   "cell_type": "code",
   "execution_count": null,
   "metadata": {},
   "outputs": [],
   "source": []
  },
  {
   "cell_type": "markdown",
   "metadata": {},
   "source": [
    "## Problema 4\n",
    "\n",
    "Em Pitometria, calcular a vazão correponde a integrar o perfil de velocidades. Deste modo, \n",
    "\n",
    "$$\n",
    "Q = \\int_0^R 2\\pi r\\cdot u(r) \\:dr\n",
    "$$\n",
    "\n",
    "Encontre os pesos e os nós de integração usando o método de Gauss (com peso). Dica: mapeie $0\\le r\\le R$ para uma variável $\\xi$ de modo que os limites de integração sejam $-1 \\le \\xi \\le 1$.\n",
    "\n"
   ]
  },
  {
   "cell_type": "code",
   "execution_count": null,
   "metadata": {},
   "outputs": [],
   "source": []
  },
  {
   "cell_type": "markdown",
   "metadata": {},
   "source": [
    "## Problema 5: desafio\n",
    "\n",
    "No problema anterior, foram utilzados polinômios. Tente encontrar os pesos e nós para sequências de funções do tipo\n",
    "\n",
    "$$\n",
    "1, \\:\\ln x, \\:x, \\:x^2, \\:x^3, \\:x^4, \\:\\text{etc}\n",
    "$$"
   ]
  },
  {
   "cell_type": "code",
   "execution_count": null,
   "metadata": {},
   "outputs": [],
   "source": []
  }
 ],
 "metadata": {
  "@webio": {
   "lastCommId": null,
   "lastKernelId": null
  },
  "kernelspec": {
   "display_name": "Julia 1.4.2",
   "language": "julia",
   "name": "julia-1.4"
  },
  "language_info": {
   "file_extension": ".jl",
   "mimetype": "application/julia",
   "name": "julia",
   "version": "1.4.2"
  }
 },
 "nbformat": 4,
 "nbformat_minor": 2
}
